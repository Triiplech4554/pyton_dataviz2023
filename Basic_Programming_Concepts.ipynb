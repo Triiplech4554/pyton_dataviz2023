{
  "nbformat": 4,
  "nbformat_minor": 0,
  "metadata": {
    "colab": {
      "provenance": [],
      "authorship_tag": "ABX9TyM0fFyY6zWs+zU5U/vhLoOs",
      "include_colab_link": true
    },
    "kernelspec": {
      "name": "python3",
      "display_name": "Python 3"
    },
    "language_info": {
      "name": "python"
    }
  },
  "cells": [
    {
      "cell_type": "markdown",
      "metadata": {
        "id": "view-in-github",
        "colab_type": "text"
      },
      "source": [
        "<a href=\"https://colab.research.google.com/github/Triiplech4554/pyton_dataviz2023/blob/main/Basic_Programming_Concepts.ipynb\" target=\"_parent\"><img src=\"https://colab.research.google.com/assets/colab-badge.svg\" alt=\"Open In Colab\"/></a>"
      ]
    },
    {
      "cell_type": "markdown",
      "source": [
        "# Functions($f(x) = y $)"
      ],
      "metadata": {
        "id": "FjfsYB5z_RRf"
      }
    },
    {
      "cell_type": "markdown",
      "source": [
        "```python\n",
        "def function_name(input_x):\n",
        "    # do something with input_x to get output_y\n",
        "    return output_y\n",
        "```"
      ],
      "metadata": {
        "id": "xWrmc4sZ_VbU"
      }
    },
    {
      "cell_type": "markdown",
      "source": [
        "def = นิยามของฟังก์ชัน"
      ],
      "metadata": {
        "id": "SIHyYyglASOe"
      }
    },
    {
      "cell_type": "markdown",
      "source": [
        "$f_1(x)=x^2 + 75$"
      ],
      "metadata": {
        "id": "LgWgPznY_ZoI"
      }
    },
    {
      "cell_type": "code",
      "source": [
        "def function_f1(x):\n",
        "    a = x**2   # ** = ยกกำลัง2\n",
        "    y = a + 75\n",
        "    return y\n",
        "# codeที่เยื้องเป็นส่วนนหนึ่งของบรรทัดบนที่ไม่เยื้อง code\n",
        "print('done!')\n",
        "\n",
        "# code ที่อยู่ลำดับเดียวกันมีความสำคัญเท่ากัน"
      ],
      "metadata": {
        "colab": {
          "base_uri": "https://localhost:8080/"
        },
        "id": "zc-zfWOX_efK",
        "outputId": "2197ed62-1e25-499f-cbea-d45edec91883"
      },
      "execution_count": 7,
      "outputs": [
        {
          "output_type": "stream",
          "name": "stdout",
          "text": [
            "done!\n"
          ]
        }
      ]
    },
    {
      "cell_type": "code",
      "source": [
        "function_f1(3) # ถ้า x เป็น 3"
      ],
      "metadata": {
        "colab": {
          "base_uri": "https://localhost:8080/"
        },
        "id": "TJ8x8u3e_gGW",
        "outputId": "a0f5cc96-401a-4b54-b6a7-5f17605e3004"
      },
      "execution_count": 8,
      "outputs": [
        {
          "output_type": "execute_result",
          "data": {
            "text/plain": [
              "84"
            ]
          },
          "metadata": {},
          "execution_count": 8
        }
      ]
    },
    {
      "cell_type": "code",
      "source": [
        "function_f1(9)"
      ],
      "metadata": {
        "colab": {
          "base_uri": "https://localhost:8080/"
        },
        "id": "kjxrnjPoB1ds",
        "outputId": "293382cf-9e75-4d48-f41b-45031ec4eadf"
      },
      "execution_count": 9,
      "outputs": [
        {
          "output_type": "execute_result",
          "data": {
            "text/plain": [
              "156"
            ]
          },
          "metadata": {},
          "execution_count": 9
        }
      ]
    },
    {
      "cell_type": "markdown",
      "source": [
        "function มีส่วนสำคัญทั้งหมด 4 ส่วน\n",
        "\n",
        "1. บอก python ว่าเราจะเขียนฟังก์ชั่น ชื่ออะไร  `def function_name()`: (ขาดไม่ได้)\n",
        "2. กำหนดตัวแปรที่จะเป็น input  _Input_ (ขาดได้)\n",
        "3. ส่วนประมวลผล do_something with _Input_ to get _Output_ (ขาดไม่ได้)\n",
        "4. ส่วน output `return` _Output_(ขาดได้)"
      ],
      "metadata": {
        "id": "oVAvCqoPAblH"
      }
    },
    {
      "cell_type": "markdown",
      "source": [
        "### ตัวอย่าง function ที่มีส่วนประกอบครบ"
      ],
      "metadata": {
        "id": "MVhsCXA1B7uM"
      }
    },
    {
      "cell_type": "code",
      "source": [
        "def function_f1(x):\n",
        "    a = x**2\n",
        "    y = a + 75\n",
        "    return y"
      ],
      "metadata": {
        "id": "84_axBl3B-Kg"
      },
      "execution_count": 10,
      "outputs": []
    },
    {
      "cell_type": "markdown",
      "source": [
        "### ตัวอย่าง function ที่ ไม่มี input\n",
        "ทำงานเหมือนเดิมตลอด ค่าไม่เปลี่ยนแปลง"
      ],
      "metadata": {
        "id": "cewrIU-pCAnM"
      }
    },
    {
      "cell_type": "code",
      "source": [
        "def pi_v():\n",
        "    y = 3.14159265359\n",
        "    return y"
      ],
      "metadata": {
        "id": "3wU0jGj7CD6i"
      },
      "execution_count": 11,
      "outputs": []
    },
    {
      "cell_type": "code",
      "source": [
        "#หาพท.วงกลม รัศมี = 2/// สูตร  pi r^2   ผลลัพธ์เหมือนเดิม\n",
        "piv = pi_v()\n",
        "circle_area_r2 = piv*(2**2)\n",
        "print(circle_area_r2)"
      ],
      "metadata": {
        "colab": {
          "base_uri": "https://localhost:8080/"
        },
        "id": "iwclbhPxCD-Y",
        "outputId": "d4a02c81-e738-40eb-c1a2-30c9e7e1fba2"
      },
      "execution_count": 12,
      "outputs": [
        {
          "output_type": "stream",
          "name": "stdout",
          "text": [
            "12.56637061436\n"
          ]
        }
      ]
    },
    {
      "cell_type": "markdown",
      "source": [
        "### Function ไม่มี process ไม่ได้"
      ],
      "metadata": {
        "id": "Fb6_rQfRCxDl"
      }
    },
    {
      "cell_type": "code",
      "source": [
        "def function_a():"
      ],
      "metadata": {
        "colab": {
          "base_uri": "https://localhost:8080/",
          "height": 131
        },
        "id": "P4FYg761Cz6z",
        "outputId": "11dff849-6072-473a-c0e9-9b4ac2d04455"
      },
      "execution_count": 13,
      "outputs": [
        {
          "output_type": "error",
          "ename": "SyntaxError",
          "evalue": "ignored",
          "traceback": [
            "\u001b[0;36m  File \u001b[0;32m\"<ipython-input-13-07a0750214a8>\"\u001b[0;36m, line \u001b[0;32m1\u001b[0m\n\u001b[0;31m    def function_a():\u001b[0m\n\u001b[0m                     ^\u001b[0m\n\u001b[0;31mSyntaxError\u001b[0m\u001b[0;31m:\u001b[0m incomplete input\n"
          ]
        }
      ]
    },
    {
      "cell_type": "markdown",
      "source": [
        "ตัวอย่าง Function ที่ไม่มี output"
      ],
      "metadata": {
        "id": "_nTJI0qPC1pY"
      }
    },
    {
      "cell_type": "code",
      "source": [
        "   def print_name_id(name,id):\n",
        "    print(f'ชื่อ {name} รหัสประจำตัว {id}') #กระบวนการว่าให้เเสดง ชื่อ\n"
      ],
      "metadata": {
        "id": "xV00K0UDC3P5"
      },
      "execution_count": 14,
      "outputs": []
    },
    {
      "cell_type": "code",
      "source": [
        "print_name_id('นัฐวดี','633020986-5')"
      ],
      "metadata": {
        "colab": {
          "base_uri": "https://localhost:8080/"
        },
        "id": "dJI-WNmMC3WY",
        "outputId": "7c1672c8-fa08-4da8-99c5-af6cf1b0af81"
      },
      "execution_count": 15,
      "outputs": [
        {
          "output_type": "stream",
          "name": "stdout",
          "text": [
            "ชื่อ นัฐวดี รหัสประจำตัว 633020986-5\n"
          ]
        }
      ]
    },
    {
      "cell_type": "code",
      "source": [
        "a = print_name_id('นัฐวดี','633020986-5')"
      ],
      "metadata": {
        "colab": {
          "base_uri": "https://localhost:8080/"
        },
        "id": "jhixRxN7C3bp",
        "outputId": "ece8463a-0178-4fcc-c6fa-2ec76d2e902f"
      },
      "execution_count": 16,
      "outputs": [
        {
          "output_type": "stream",
          "name": "stdout",
          "text": [
            "ชื่อ นัฐวดี รหัสประจำตัว 633020986-5\n"
          ]
        }
      ]
    },
    {
      "cell_type": "code",
      "source": [
        "a # เป็นช่องว่างเพราะ ไม่มีการ  return  ค่า"
      ],
      "metadata": {
        "id": "2pkhHCN8C_T1"
      },
      "execution_count": null,
      "outputs": []
    },
    {
      "cell_type": "markdown",
      "source": [
        "ตัวอย่าง function `print` https://www.programiz.com/python-programming/methods/built-in/print"
      ],
      "metadata": {
        "id": "O9zMydCaDxlY"
      }
    },
    {
      "cell_type": "markdown",
      "source": [
        "print()  ใส่ input ได้หลายตัว\n",
        "-   ** คือ จำเป็นต้องใส่\n",
        "- = คือ ไม่จำเป็นต้องใส่ มีค่าตั้งต้นมาให้\n",
        "- end คือ จบบรรทัด  \\n คือด้วยการขึ้นบรรทัดใหม่\n",
        "- sep คือ เว้นวรรคค่าด้วย ' ' คือ ช่องว่าง"
      ],
      "metadata": {
        "id": "ANjNSQRPD0xL"
      }
    },
    {
      "cell_type": "code",
      "source": [
        "print('นัฐวดี')\n",
        "print('633020986-5')"
      ],
      "metadata": {
        "colab": {
          "base_uri": "https://localhost:8080/"
        },
        "id": "36Jw0HsuD2yq",
        "outputId": "636c196f-e6fd-4fc2-f2c9-3bd83be1b4e0"
      },
      "execution_count": 17,
      "outputs": [
        {
          "output_type": "stream",
          "name": "stdout",
          "text": [
            "นัฐวดี\n",
            "633020986-5\n"
          ]
        }
      ]
    },
    {
      "cell_type": "code",
      "source": [
        "print('นัฐวดี',end='->')  # end =  จบบรรทัดด้วย\n",
        "print('633020986-5')"
      ],
      "metadata": {
        "colab": {
          "base_uri": "https://localhost:8080/"
        },
        "id": "d4FdQXTgDyZG",
        "outputId": "5398cca2-5106-4bcc-c2b7-970a11e952f6"
      },
      "execution_count": 18,
      "outputs": [
        {
          "output_type": "stream",
          "name": "stdout",
          "text": [
            "นัฐวดี->633020986-5\n"
          ]
        }
      ]
    },
    {
      "cell_type": "code",
      "source": [
        "print('นัฐวดี','633020986-5',sep=' & ') # sep= กำหนดค่า = &"
      ],
      "metadata": {
        "colab": {
          "base_uri": "https://localhost:8080/"
        },
        "id": "8yp44wSxECYl",
        "outputId": "a7550024-b848-43b5-f7ad-a8ff8aaff19b"
      },
      "execution_count": 19,
      "outputs": [
        {
          "output_type": "stream",
          "name": "stdout",
          "text": [
            "นัฐวดี & 633020986-5\n"
          ]
        }
      ]
    },
    {
      "cell_type": "markdown",
      "source": [
        "## input ของ function แบ่งเป็น 2 ชนิด (จำเป็นต้องใส่ กับ ไม่จำเป็นต้องใส่)"
      ],
      "metadata": {
        "id": "9halMIYDEJRw"
      }
    },
    {
      "cell_type": "markdown",
      "source": [
        "ตัวอย่าง function `print_grade()` มี input 3 ตัว จำเป็นต้องใส่ 2 ตัว คือ name กับ id และไม่จำเป็นต้องใส่ 1 ตัว คือเกรด ซึ่งมีค่า default เป็น F"
      ],
      "metadata": {
        "id": "_vVblLA8EMOt"
      }
    },
    {
      "cell_type": "code",
      "source": [
        "def print_grade(name,id,grade = 'A'):\n",
        "    print(f'รหัสประจำตัว {id} ชื่อ {name}')   # process ให้แสดง รหัส และชื่อ\n",
        "    print(f'ได้เกรด {grade}') # process"
      ],
      "metadata": {
        "id": "9y95BV7HEPe9"
      },
      "execution_count": 21,
      "outputs": []
    },
    {
      "cell_type": "code",
      "source": [
        "print_grade('นางสาวนัฐวดี ชื่นชวนชม','633020986-5')"
      ],
      "metadata": {
        "colab": {
          "base_uri": "https://localhost:8080/"
        },
        "id": "CNMhGqxGESdZ",
        "outputId": "5e884a90-8915-49de-a6b6-5b1d5e69ccd2"
      },
      "execution_count": 22,
      "outputs": [
        {
          "output_type": "stream",
          "name": "stdout",
          "text": [
            "รหัสประจำตัว 633020986-5 ชื่อ นางสาวนัฐวดี ชื่นชวนชม\n",
            "ได้เกรด A\n"
          ]
        }
      ]
    },
    {
      "cell_type": "code",
      "source": [
        "print_grade('นางสาวนัฐวดี ชื่นชวนชม','633020986-5','A')"
      ],
      "metadata": {
        "colab": {
          "base_uri": "https://localhost:8080/"
        },
        "id": "ln3IKJl3ESvz",
        "outputId": "80935e49-2c3c-4a6c-cfc9-4a77764f1a23"
      },
      "execution_count": 23,
      "outputs": [
        {
          "output_type": "stream",
          "name": "stdout",
          "text": [
            "รหัสประจำตัว 633020986-5 ชื่อ นางสาวนัฐวดี ชื่นชวนชม\n",
            "ได้เกรด A\n"
          ]
        }
      ]
    },
    {
      "cell_type": "code",
      "source": [
        "print_grade(id='623020541-2',name='นายสิทธัตกะ จรัสแสง',grade='B+')  #กรณีที่มีตัวแปรเยอะ จำลำดับไม่ได้ ก็ระบุไปเลย"
      ],
      "metadata": {
        "colab": {
          "base_uri": "https://localhost:8080/"
        },
        "id": "MzKGXOZTES2k",
        "outputId": "0721b4c0-a7ae-460a-9953-37ce9a1776f8"
      },
      "execution_count": 24,
      "outputs": [
        {
          "output_type": "stream",
          "name": "stdout",
          "text": [
            "รหัสประจำตัว 623020541-2 ชื่อ นายสิทธัตกะ จรัสแสง\n",
            "ได้เกรด B+\n"
          ]
        }
      ]
    },
    {
      "cell_type": "markdown",
      "source": [
        "# Looping (for)\n",
        "สำหรับทำงายเยอะๆ ซ้ำ"
      ],
      "metadata": {
        "id": "6AreIpUxFLwI"
      }
    },
    {
      "cell_type": "markdown",
      "source": [
        "```python\n",
        "for member in listEx:       ## วนที่สมาชิก ใน list\n",
        "    do_something()\n",
        "```\n",
        "for ชื่อตัวแปร in list ที่จะเอามาใช้เป็นสมาชิกใน ตัวแปร:     \n",
        "    \n",
        "วนซ้ำ\n",
        "- วนซ้ำสมาชิกใน\n"
      ],
      "metadata": {
        "id": "CTYyiF2WFOB7"
      }
    },
    {
      "cell_type": "code",
      "source": [
        "for member in [1,2,3,4,5,6]:\n",
        "    print(member)"
      ],
      "metadata": {
        "colab": {
          "base_uri": "https://localhost:8080/"
        },
        "id": "e8uQyc8rFQEi",
        "outputId": "47a71d38-968f-40e8-f8ca-89257f952266"
      },
      "execution_count": 25,
      "outputs": [
        {
          "output_type": "stream",
          "name": "stdout",
          "text": [
            "1\n",
            "2\n",
            "3\n",
            "4\n",
            "5\n",
            "6\n"
          ]
        }
      ]
    },
    {
      "cell_type": "code",
      "source": [
        "def print_name(name):   # name input รอรับ\n",
        "    print(f'ฉันชื่อ {name}') # กบก"
      ],
      "metadata": {
        "id": "VmMDdSCZFRvk"
      },
      "execution_count": 26,
      "outputs": []
    },
    {
      "cell_type": "code",
      "source": [
        "for name in ['วัชราภรณ์','จุฑากาญจน์ ','ชลธิชา','ญาดา','กิตติคุณ']:  # ชื่อ name(ตัวแปร ที่จะไปดึงเอาสมาชิกเเต่ละตัวมาใช้ใน loop ) ที่เอาไปเป็น input\n",
        "    N = name # ไม่จำเป็นต้องทำ\n",
        "    print_name(N) #จะไปเป็น input ของด้านบน"
      ],
      "metadata": {
        "colab": {
          "base_uri": "https://localhost:8080/"
        },
        "id": "gP-TI7-YFTSi",
        "outputId": "d0608782-b02b-46a6-eeea-1109a3557dd7"
      },
      "execution_count": 27,
      "outputs": [
        {
          "output_type": "stream",
          "name": "stdout",
          "text": [
            "ฉันชื่อ วัชราภรณ์\n",
            "ฉันชื่อ จุฑากาญจน์ \n",
            "ฉันชื่อ ชลธิชา\n",
            "ฉันชื่อ ญาดา\n",
            "ฉันชื่อ กิตติคุณ\n"
          ]
        }
      ]
    },
    {
      "cell_type": "code",
      "source": [
        "list_name_id_grade = [['นางสาวเบญญาภา ระภูเขียว','623020527-6','B'],\n",
        "                      ['นางสาวทักษิณา ราชหุ่น','623021000-1','A'],\n",
        "                      ['นางสาวปลายฟ้า คำเพ็ง','623021005-1','C']]"
      ],
      "metadata": {
        "id": "GgW8wIHGFvZe"
      },
      "execution_count": 28,
      "outputs": []
    },
    {
      "cell_type": "code",
      "source": [
        "for each in list_name_id_grade:\n",
        "    name = each[0] #สามาชิกตัวแรกของสมาชิกอันเเรกของอันใหญ่\n",
        "    id = each[1]\n",
        "    grade = each[2]\n",
        "    print_grade(name,id,grade)\n",
        "    print('----------------')"
      ],
      "metadata": {
        "colab": {
          "base_uri": "https://localhost:8080/"
        },
        "id": "QhF0VbzfFv2d",
        "outputId": "fb2b9c5d-9aa6-44bb-9f48-c5a7ce9b8a74"
      },
      "execution_count": 29,
      "outputs": [
        {
          "output_type": "stream",
          "name": "stdout",
          "text": [
            "รหัสประจำตัว 623020527-6 ชื่อ นางสาวเบญญาภา ระภูเขียว\n",
            "ได้เกรด B\n",
            "----------------\n",
            "รหัสประจำตัว 623021000-1 ชื่อ นางสาวทักษิณา ราชหุ่น\n",
            "ได้เกรด A\n",
            "----------------\n",
            "รหัสประจำตัว 623021005-1 ชื่อ นางสาวปลายฟ้า คำเพ็ง\n",
            "ได้เกรด C\n",
            "----------------\n"
          ]
        }
      ]
    },
    {
      "cell_type": "markdown",
      "source": [
        "## ใช้ for loop เพิ่มสมาชิกใน list  *****"
      ],
      "metadata": {
        "id": "PhBU9ciMF1Wt"
      }
    },
    {
      "cell_type": "code",
      "source": [
        "#อยากได้ข้อมูลแยกกัน ชื่ออย่างเดียว/รหัสอย่างเดียว/เกรดอย่างเดียว\n",
        "list_name = [] #นิยมสร้าง list เปล่าๆก่อน\n",
        "list_id = []\n",
        "list_grade = []\n",
        "for each in list_name_id_grade:\n",
        "    list_name.append(each[0])\n",
        "    list_id.append(each[1])\n",
        "    list_grade.append(each[2])"
      ],
      "metadata": {
        "id": "kgidxI_uF2yP"
      },
      "execution_count": 30,
      "outputs": []
    },
    {
      "cell_type": "code",
      "source": [
        "list_name"
      ],
      "metadata": {
        "colab": {
          "base_uri": "https://localhost:8080/"
        },
        "id": "RIBcQCxbF4V-",
        "outputId": "9004a030-846c-4fca-e9cd-ef6e57af5dba"
      },
      "execution_count": 31,
      "outputs": [
        {
          "output_type": "execute_result",
          "data": {
            "text/plain": [
              "['นางสาวเบญญาภา ระภูเขียว', 'นางสาวทักษิณา ราชหุ่น', 'นางสาวปลายฟ้า คำเพ็ง']"
            ]
          },
          "metadata": {},
          "execution_count": 31
        }
      ]
    },
    {
      "cell_type": "code",
      "source": [
        "list_id"
      ],
      "metadata": {
        "colab": {
          "base_uri": "https://localhost:8080/"
        },
        "id": "eyGNFbWcF4tf",
        "outputId": "5168a83a-cd4a-4097-c4db-682c017b770f"
      },
      "execution_count": 32,
      "outputs": [
        {
          "output_type": "execute_result",
          "data": {
            "text/plain": [
              "['623020527-6', '623021000-1', '623021005-1']"
            ]
          },
          "metadata": {},
          "execution_count": 32
        }
      ]
    },
    {
      "cell_type": "code",
      "source": [
        "list_grade"
      ],
      "metadata": {
        "colab": {
          "base_uri": "https://localhost:8080/"
        },
        "id": "MHQLI-HZF441",
        "outputId": "a0478a8b-a9f8-4b45-fa21-55c50ad28654"
      },
      "execution_count": 33,
      "outputs": [
        {
          "output_type": "execute_result",
          "data": {
            "text/plain": [
              "['B', 'A', 'C']"
            ]
          },
          "metadata": {},
          "execution_count": 33
        }
      ]
    },
    {
      "cell_type": "markdown",
      "source": [
        "### การวนลูปด้วย `range()`\n",
        "\n",
        "- สร้าง list 0 - ก่อนเลขนั้น\n",
        "- วนลูปแบบซ้ำๆ ไม่ต้องการเปลี่ยนแปลงอะไร"
      ],
      "metadata": {
        "id": "-O7OYrnhGd3T"
      }
    },
    {
      "cell_type": "code",
      "source": [
        "for i in range(100):\n",
        "    print('งง', end = ' ')"
      ],
      "metadata": {
        "colab": {
          "base_uri": "https://localhost:8080/"
        },
        "id": "H48BnF4eGgPs",
        "outputId": "72f42d7e-ccec-45db-c370-d030e334b758"
      },
      "execution_count": 34,
      "outputs": [
        {
          "output_type": "stream",
          "name": "stdout",
          "text": [
            "งง งง งง งง งง งง งง งง งง งง งง งง งง งง งง งง งง งง งง งง งง งง งง งง งง งง งง งง งง งง งง งง งง งง งง งง งง งง งง งง งง งง งง งง งง งง งง งง งง งง งง งง งง งง งง งง งง งง งง งง งง งง งง งง งง งง งง งง งง งง งง งง งง งง งง งง งง งง งง งง งง งง งง งง งง งง งง งง งง งง งง งง งง งง งง งง งง งง งง งง "
          ]
        }
      ]
    },
    {
      "cell_type": "code",
      "source": [
        "list(range(20))"
      ],
      "metadata": {
        "colab": {
          "base_uri": "https://localhost:8080/"
        },
        "id": "FOizgCeOGgXs",
        "outputId": "cd5e2156-934f-4f76-ce98-840f72517fe3"
      },
      "execution_count": 35,
      "outputs": [
        {
          "output_type": "execute_result",
          "data": {
            "text/plain": [
              "[0, 1, 2, 3, 4, 5, 6, 7, 8, 9, 10, 11, 12, 13, 14, 15, 16, 17, 18, 19]"
            ]
          },
          "metadata": {},
          "execution_count": 35
        }
      ]
    },
    {
      "cell_type": "code",
      "source": [
        "list(range(40))"
      ],
      "metadata": {
        "colab": {
          "base_uri": "https://localhost:8080/"
        },
        "id": "k9B-D9VDGkNf",
        "outputId": "1a112234-e5b4-4707-c990-b0038f76181a"
      },
      "execution_count": 36,
      "outputs": [
        {
          "output_type": "execute_result",
          "data": {
            "text/plain": [
              "[0,\n",
              " 1,\n",
              " 2,\n",
              " 3,\n",
              " 4,\n",
              " 5,\n",
              " 6,\n",
              " 7,\n",
              " 8,\n",
              " 9,\n",
              " 10,\n",
              " 11,\n",
              " 12,\n",
              " 13,\n",
              " 14,\n",
              " 15,\n",
              " 16,\n",
              " 17,\n",
              " 18,\n",
              " 19,\n",
              " 20,\n",
              " 21,\n",
              " 22,\n",
              " 23,\n",
              " 24,\n",
              " 25,\n",
              " 26,\n",
              " 27,\n",
              " 28,\n",
              " 29,\n",
              " 30,\n",
              " 31,\n",
              " 32,\n",
              " 33,\n",
              " 34,\n",
              " 35,\n",
              " 36,\n",
              " 37,\n",
              " 38,\n",
              " 39]"
            ]
          },
          "metadata": {},
          "execution_count": 36
        }
      ]
    },
    {
      "cell_type": "code",
      "source": [
        "list(range(5,20)) # เริ่มจาก 5 ก่อน 20"
      ],
      "metadata": {
        "colab": {
          "base_uri": "https://localhost:8080/"
        },
        "id": "KSGyr_i9Glga",
        "outputId": "8faff817-792f-4640-85f1-359f2ac0a776"
      },
      "execution_count": 37,
      "outputs": [
        {
          "output_type": "execute_result",
          "data": {
            "text/plain": [
              "[5, 6, 7, 8, 9, 10, 11, 12, 13, 14, 15, 16, 17, 18, 19]"
            ]
          },
          "metadata": {},
          "execution_count": 37
        }
      ]
    },
    {
      "cell_type": "markdown",
      "source": [
        "### Loop ซ้อน Loop (nested loop)"
      ],
      "metadata": {
        "id": "O_pHM96GH5-Z"
      }
    },
    {
      "cell_type": "code",
      "source": [
        "#แม่สูตรคูณ\n",
        "for mem1 in range(2,5): #แม่[2,3,4]\n",
        "    print(f'now mem1 = {mem1}')\n",
        "    for mem2 in range(1,13): #[1,2,3,4,5,6,7,8,9,10,11,12]ตัวมาคูณ\n",
        "        print(f'{mem1} x {mem2} = {mem1*mem2}')\n",
        "    print(f'end inner for mem1 = {mem1}') #จบในลูป"
      ],
      "metadata": {
        "colab": {
          "base_uri": "https://localhost:8080/"
        },
        "id": "s8bTyYZ3H7nq",
        "outputId": "ff0089c8-66dd-49cc-e31c-d61e2941f087"
      },
      "execution_count": 38,
      "outputs": [
        {
          "output_type": "stream",
          "name": "stdout",
          "text": [
            "now mem1 = 2\n",
            "2 x 1 = 2\n",
            "2 x 2 = 4\n",
            "2 x 3 = 6\n",
            "2 x 4 = 8\n",
            "2 x 5 = 10\n",
            "2 x 6 = 12\n",
            "2 x 7 = 14\n",
            "2 x 8 = 16\n",
            "2 x 9 = 18\n",
            "2 x 10 = 20\n",
            "2 x 11 = 22\n",
            "2 x 12 = 24\n",
            "end inner for mem1 = 2\n",
            "now mem1 = 3\n",
            "3 x 1 = 3\n",
            "3 x 2 = 6\n",
            "3 x 3 = 9\n",
            "3 x 4 = 12\n",
            "3 x 5 = 15\n",
            "3 x 6 = 18\n",
            "3 x 7 = 21\n",
            "3 x 8 = 24\n",
            "3 x 9 = 27\n",
            "3 x 10 = 30\n",
            "3 x 11 = 33\n",
            "3 x 12 = 36\n",
            "end inner for mem1 = 3\n",
            "now mem1 = 4\n",
            "4 x 1 = 4\n",
            "4 x 2 = 8\n",
            "4 x 3 = 12\n",
            "4 x 4 = 16\n",
            "4 x 5 = 20\n",
            "4 x 6 = 24\n",
            "4 x 7 = 28\n",
            "4 x 8 = 32\n",
            "4 x 9 = 36\n",
            "4 x 10 = 40\n",
            "4 x 11 = 44\n",
            "4 x 12 = 48\n",
            "end inner for mem1 = 4\n"
          ]
        }
      ]
    },
    {
      "cell_type": "markdown",
      "source": [
        "### Loop in Function"
      ],
      "metadata": {
        "id": "yJs4oJ9XIYrL"
      }
    },
    {
      "cell_type": "code",
      "source": [
        "def print_grade_loop(names,grades): # names,grades มีหลายสมาชิก เป็นlist\n",
        "    for n,g in zip(names,grades): # The zip() function returns a zip object, which is an iterator of tuples where the first item in each passed iterator is paired together, and then the second item in each passed iterator are paired together etc.\n",
        "        print(f'{n} ได้เกรด {g}')  #  zip การจับคู่ ของเเต่ละ list ในตำแหน่เดียวกัน // จับ 2 list มาร่วมกัน"
      ],
      "metadata": {
        "id": "O7ccooYlIZ0w"
      },
      "execution_count": 39,
      "outputs": []
    },
    {
      "cell_type": "code",
      "source": [
        "print_grade_loop(list_name,list_grade)"
      ],
      "metadata": {
        "colab": {
          "base_uri": "https://localhost:8080/"
        },
        "id": "TNE-iFVTIZ7l",
        "outputId": "6b68c7b9-1813-46a9-eb50-06f924513b6f"
      },
      "execution_count": 40,
      "outputs": [
        {
          "output_type": "stream",
          "name": "stdout",
          "text": [
            "นางสาวเบญญาภา ระภูเขียว ได้เกรด B\n",
            "นางสาวทักษิณา ราชหุ่น ได้เกรด A\n",
            "นางสาวปลายฟ้า คำเพ็ง ได้เกรด C\n"
          ]
        }
      ]
    },
    {
      "cell_type": "markdown",
      "source": [
        "# HW 2.5 เราสร้าง function print logo พรรคก้าวไกล"
      ],
      "metadata": {
        "id": "duiaB51IIiTs"
      }
    },
    {
      "cell_type": "code",
      "source": [],
      "metadata": {
        "id": "LCizifFkIhqq"
      },
      "execution_count": null,
      "outputs": []
    }
  ]
}