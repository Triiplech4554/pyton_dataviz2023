{
  "nbformat": 4,
  "nbformat_minor": 0,
  "metadata": {
    "colab": {
      "provenance": [],
      "authorship_tag": "ABX9TyPxeuCBKDxGTMabFJ4+elrL",
      "include_colab_link": true
    },
    "kernelspec": {
      "name": "python3",
      "display_name": "Python 3"
    },
    "language_info": {
      "name": "python"
    }
  },
  "cells": [
    {
      "cell_type": "markdown",
      "metadata": {
        "id": "view-in-github",
        "colab_type": "text"
      },
      "source": [
        "<a href=\"https://colab.research.google.com/github/Triiplech4554/pyton_dataviz2023/blob/main/Untitled2.ipynb\" target=\"_parent\"><img src=\"https://colab.research.google.com/assets/colab-badge.svg\" alt=\"Open In Colab\"/></a>"
      ]
    },
    {
      "cell_type": "markdown",
      "source": [
        "### Quiz2\n",
        "กำหนด list เป็นประโยคว่า\n",
        "\"Department of Statistics,Faculty of science, Khon Kaen University,Thailand\" 10luly2023[15:25]\n",
        "1. ตัดมาเฉพาะคำว่า Faculty of science\n",
        "2. ตัดแบบเว้นทีละ 3 ตัวอักษร\n",
        "3. ตัดคำว่า Khon Kaen University ออกมาแล้วกลับหลัง"
      ],
      "metadata": {
        "id": "gw-c490A2JzJ"
      }
    },
    {
      "cell_type": "markdown",
      "source": [
        "1"
      ],
      "metadata": {
        "id": "sisquoCd6f64"
      }
    },
    {
      "cell_type": "code",
      "source": [
        "list_a = ['Department of Statistics','Faculty of science', 'Khon Kaen University','Thailand']"
      ],
      "metadata": {
        "id": "BUzqP7Po2rRY"
      },
      "execution_count": 42,
      "outputs": []
    },
    {
      "cell_type": "code",
      "source": [
        "list_a"
      ],
      "metadata": {
        "colab": {
          "base_uri": "https://localhost:8080/"
        },
        "id": "gDM7nogc4eNA",
        "outputId": "42951005-0886-497e-e717-5fc20197f1bf"
      },
      "execution_count": 43,
      "outputs": [
        {
          "output_type": "execute_result",
          "data": {
            "text/plain": [
              "['Department of Statistics',\n",
              " 'Faculty of science',\n",
              " 'Khon Kaen University',\n",
              " 'Thailand']"
            ]
          },
          "metadata": {},
          "execution_count": 43
        }
      ]
    },
    {
      "cell_type": "code",
      "source": [
        "list_a[1]\n"
      ],
      "metadata": {
        "colab": {
          "base_uri": "https://localhost:8080/",
          "height": 35
        },
        "id": "DUDbKziD3rbZ",
        "outputId": "960ede07-8211-40be-a845-8f13786ef1ce"
      },
      "execution_count": 44,
      "outputs": [
        {
          "output_type": "execute_result",
          "data": {
            "text/plain": [
              "'Faculty of science'"
            ],
            "application/vnd.google.colaboratory.intrinsic+json": {
              "type": "string"
            }
          },
          "metadata": {},
          "execution_count": 44
        }
      ]
    },
    {
      "cell_type": "markdown",
      "source": [
        "2"
      ],
      "metadata": {
        "id": "K0jwvaTZ6iVX"
      }
    },
    {
      "cell_type": "code",
      "source": [
        "list_b = \"Department of Statistics,Faculty of science, Khon Kaen University,Thailand\""
      ],
      "metadata": {
        "id": "Y2yNaQh26mg3"
      },
      "execution_count": 83,
      "outputs": []
    },
    {
      "cell_type": "code",
      "source": [
        "list_b"
      ],
      "metadata": {
        "colab": {
          "base_uri": "https://localhost:8080/",
          "height": 35
        },
        "id": "cSAT2yYa57dy",
        "outputId": "d9f80d31-2e9e-4a17-89d6-7673fd324ff3"
      },
      "execution_count": 84,
      "outputs": [
        {
          "output_type": "execute_result",
          "data": {
            "text/plain": [
              "'Department of Statistics,Faculty of science, Khon Kaen University,Thailand'"
            ],
            "application/vnd.google.colaboratory.intrinsic+json": {
              "type": "string"
            }
          },
          "metadata": {},
          "execution_count": 84
        }
      ]
    },
    {
      "cell_type": "code",
      "source": [
        "list_b[:65:3]"
      ],
      "metadata": {
        "colab": {
          "base_uri": "https://localhost:8080/",
          "height": 35
        },
        "id": "wqT9rN985nUR",
        "outputId": "27d6af90-3a64-4b47-f4ff-ac336dc360a0"
      },
      "execution_count": 85,
      "outputs": [
        {
          "output_type": "execute_result",
          "data": {
            "text/plain": [
              "'Damtftii,ctoseeKna irt'"
            ],
            "application/vnd.google.colaboratory.intrinsic+json": {
              "type": "string"
            }
          },
          "metadata": {},
          "execution_count": 85
        }
      ]
    },
    {
      "cell_type": "markdown",
      "source": [
        "3"
      ],
      "metadata": {
        "id": "WjPL4rUY6juG"
      }
    },
    {
      "cell_type": "code",
      "source": [
        "list_c = \"Department of Statistics,Faculty of science,Khon Kaen University,Thailand\""
      ],
      "metadata": {
        "id": "D2gNqZ8H8-l_"
      },
      "execution_count": 77,
      "outputs": []
    },
    {
      "cell_type": "code",
      "source": [
        "list_c[65:44:-1]"
      ],
      "metadata": {
        "colab": {
          "base_uri": "https://localhost:8080/",
          "height": 35
        },
        "id": "QFp3ZzpL4vDJ",
        "outputId": "bd8e5bce-d82a-4ef3-fc4a-205ebb6ae5a8"
      },
      "execution_count": 81,
      "outputs": [
        {
          "output_type": "execute_result",
          "data": {
            "text/plain": [
              "',ytisrevinU neaK nohK'"
            ],
            "application/vnd.google.colaboratory.intrinsic+json": {
              "type": "string"
            }
          },
          "metadata": {},
          "execution_count": 81
        }
      ]
    },
    {
      "cell_type": "code",
      "source": [],
      "metadata": {
        "id": "JuePGdjj4Z34"
      },
      "execution_count": null,
      "outputs": []
    }
  ]
}