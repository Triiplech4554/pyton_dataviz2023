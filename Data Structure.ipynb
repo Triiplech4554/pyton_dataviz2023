{
  "nbformat": 4,
  "nbformat_minor": 0,
  "metadata": {
    "colab": {
      "provenance": [],
      "authorship_tag": "ABX9TyP2TafXNLqDNKUVBZxFWJsn",
      "include_colab_link": true
    },
    "kernelspec": {
      "name": "python3",
      "display_name": "Python 3"
    },
    "language_info": {
      "name": "python"
    }
  },
  "cells": [
    {
      "cell_type": "markdown",
      "metadata": {
        "id": "view-in-github",
        "colab_type": "text"
      },
      "source": [
        "<a href=\"https://colab.research.google.com/github/Triiplech4554/pyton_dataviz2023/blob/main/Data%20Structure.ipynb\" target=\"_parent\"><img src=\"https://colab.research.google.com/assets/colab-badge.svg\" alt=\"Open In Colab\"/></a>"
      ]
    },
    {
      "cell_type": "markdown",
      "source": [
        "### Quiz2\n",
        "กำหนด list เป็นประโยคว่า\n",
        "\"Department of Statistics,Faculty of science, Khon Kaen University,Thailand\" 10luly2023[15:25]\n",
        "1. ตัดมาเฉพาะคำว่า Faculty of science\n",
        "2. ตัดแบบเว้นทีละ 3 ตัวอักษร\n",
        "3. ตัดคำว่า Khon Kaen University ออกมาแล้วกลับหลัง"
      ],
      "metadata": {
        "id": "gw-c490A2JzJ"
      }
    },
    {
      "cell_type": "markdown",
      "source": [
        "1"
      ],
      "metadata": {
        "id": "sisquoCd6f64"
      }
    },
    {
      "cell_type": "code",
      "source": [
        "list_a = ['Department of Statistics','Faculty of science', 'Khon Kaen University','Thailand']"
      ],
      "metadata": {
        "id": "BUzqP7Po2rRY"
      },
      "execution_count": 42,
      "outputs": []
    },
    {
      "cell_type": "code",
      "source": [
        "list_a"
      ],
      "metadata": {
        "colab": {
          "base_uri": "https://localhost:8080/"
        },
        "id": "gDM7nogc4eNA",
        "outputId": "42951005-0886-497e-e717-5fc20197f1bf"
      },
      "execution_count": 43,
      "outputs": [
        {
          "output_type": "execute_result",
          "data": {
            "text/plain": [
              "['Department of Statistics',\n",
              " 'Faculty of science',\n",
              " 'Khon Kaen University',\n",
              " 'Thailand']"
            ]
          },
          "metadata": {},
          "execution_count": 43
        }
      ]
    },
    {
      "cell_type": "code",
      "source": [
        "list_a[1]\n"
      ],
      "metadata": {
        "colab": {
          "base_uri": "https://localhost:8080/",
          "height": 35
        },
        "id": "DUDbKziD3rbZ",
        "outputId": "960ede07-8211-40be-a845-8f13786ef1ce"
      },
      "execution_count": 44,
      "outputs": [
        {
          "output_type": "execute_result",
          "data": {
            "text/plain": [
              "'Faculty of science'"
            ],
            "application/vnd.google.colaboratory.intrinsic+json": {
              "type": "string"
            }
          },
          "metadata": {},
          "execution_count": 44
        }
      ]
    },
    {
      "cell_type": "markdown",
      "source": [
        "2"
      ],
      "metadata": {
        "id": "K0jwvaTZ6iVX"
      }
    },
    {
      "cell_type": "code",
      "source": [
        "list_b = ['Department of Statistics','Faculty of science', 'Khon Kaen University','Thailand']"
      ],
      "metadata": {
        "id": "Y2yNaQh26mg3"
      },
      "execution_count": 49,
      "outputs": []
    },
    {
      "cell_type": "code",
      "source": [
        "list_b"
      ],
      "metadata": {
        "colab": {
          "base_uri": "https://localhost:8080/"
        },
        "id": "cSAT2yYa57dy",
        "outputId": "b8595397-1b19-4526-849f-a6df506a71f2"
      },
      "execution_count": 50,
      "outputs": [
        {
          "output_type": "execute_result",
          "data": {
            "text/plain": [
              "['Department of Statistics',\n",
              " 'Faculty of science',\n",
              " 'Khon Kaen University',\n",
              " 'Thailand']"
            ]
          },
          "metadata": {},
          "execution_count": 50
        }
      ]
    },
    {
      "cell_type": "code",
      "source": [
        "list_b[:55:]"
      ],
      "metadata": {
        "colab": {
          "base_uri": "https://localhost:8080/"
        },
        "id": "wqT9rN985nUR",
        "outputId": "82761af2-5758-4c1c-ed3b-4ddcb7407973"
      },
      "execution_count": 51,
      "outputs": [
        {
          "output_type": "execute_result",
          "data": {
            "text/plain": [
              "['Department of Statistics',\n",
              " 'Faculty of science',\n",
              " 'Khon Kaen University',\n",
              " 'Thailand']"
            ]
          },
          "metadata": {},
          "execution_count": 51
        }
      ]
    },
    {
      "cell_type": "code",
      "source": [
        "list_b[:55:3]"
      ],
      "metadata": {
        "colab": {
          "base_uri": "https://localhost:8080/"
        },
        "id": "YxCX0wJi4tug",
        "outputId": "b8c4e11a-55fe-4d4c-fde2-635acbb40452"
      },
      "execution_count": 52,
      "outputs": [
        {
          "output_type": "execute_result",
          "data": {
            "text/plain": [
              "['Department of Statistics', 'Thailand']"
            ]
          },
          "metadata": {},
          "execution_count": 52
        }
      ]
    },
    {
      "cell_type": "markdown",
      "source": [
        "3"
      ],
      "metadata": {
        "id": "WjPL4rUY6juG"
      }
    },
    {
      "cell_type": "code",
      "source": [
        "list_a[::-1]"
      ],
      "metadata": {
        "colab": {
          "base_uri": "https://localhost:8080/"
        },
        "id": "QFp3ZzpL4vDJ",
        "outputId": "58678dca-f402-47f5-88d3-4074d5580539"
      },
      "execution_count": 53,
      "outputs": [
        {
          "output_type": "execute_result",
          "data": {
            "text/plain": [
              "['Thailand',\n",
              " 'Khon Kaen University',\n",
              " 'Faculty of science',\n",
              " 'Department of Statistics']"
            ]
          },
          "metadata": {},
          "execution_count": 53
        }
      ]
    },
    {
      "cell_type": "code",
      "source": [],
      "metadata": {
        "id": "JuePGdjj4Z34"
      },
      "execution_count": null,
      "outputs": []
    }
  ]
}