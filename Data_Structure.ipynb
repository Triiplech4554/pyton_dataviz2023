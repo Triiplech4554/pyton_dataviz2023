{
  "nbformat": 4,
  "nbformat_minor": 0,
  "metadata": {
    "colab": {
      "provenance": [],
      "authorship_tag": "ABX9TyMx0nURlTqnCWXFQLy0RPJS",
      "include_colab_link": true
    },
    "kernelspec": {
      "name": "python3",
      "display_name": "Python 3"
    },
    "language_info": {
      "name": "python"
    }
  },
  "cells": [
    {
      "cell_type": "markdown",
      "metadata": {
        "id": "view-in-github",
        "colab_type": "text"
      },
      "source": [
        "<a href=\"https://colab.research.google.com/github/Triiplech4554/pyton_dataviz2023/blob/main/Data_Structure.ipynb\" target=\"_parent\"><img src=\"https://colab.research.google.com/assets/colab-badge.svg\" alt=\"Open In Colab\"/></a>"
      ]
    },
    {
      "cell_type": "markdown",
      "source": [
        "# Data Structure (โครงสร้างข้อมูล)\n",
        "การเก็บข้อมูลหลาย ๆ ตัวไว้ด้วยกันอย่างเป็นระเบียบ"
      ],
      "metadata": {
        "id": "6ZiDuiCO7ko6"
      }
    },
    {
      "cell_type": "markdown",
      "source": [
        "list()\n",
        "เก็บอะไรก็ได้\n",
        "ลำดับในการเก็บ มีความสำคัญ\n"
      ],
      "metadata": {
        "id": "fe6izp9I7o2h"
      }
    },
    {
      "cell_type": "code",
      "source": [
        "list_a = [1,2,3,4,5,6] # กำหนดตัวแปร"
      ],
      "metadata": {
        "id": "-kLdwv1U7peR"
      },
      "execution_count": null,
      "outputs": []
    },
    {
      "cell_type": "code",
      "source": [
        "list_a # [ ] square brackets เอาไว้คลอบ list"
      ],
      "metadata": {
        "colab": {
          "base_uri": "https://localhost:8080/"
        },
        "id": "yk00LY8T8n6b",
        "outputId": "b0a71b13-8ab0-463a-e641-eb26a8c66c7f"
      },
      "execution_count": null,
      "outputs": [
        {
          "output_type": "execute_result",
          "data": {
            "text/plain": [
              "[1, 2, 3, 4, 5, 6]"
            ]
          },
          "metadata": {},
          "execution_count": 3
        }
      ]
    },
    {
      "cell_type": "code",
      "source": [
        "list_b = ['ab',2,3.14 , list_a] # กำหนดตัวแปร"
      ],
      "metadata": {
        "id": "n8n22qcV8oAm"
      },
      "execution_count": null,
      "outputs": []
    },
    {
      "cell_type": "code",
      "source": [
        "list_b = ['ab',2,3.14 , list_a] #จะเก็บอะไรก็ได้"
      ],
      "metadata": {
        "id": "7NPBqMAg8xhx"
      },
      "execution_count": null,
      "outputs": []
    },
    {
      "cell_type": "code",
      "source": [
        "list_b # สามารถเก็บได้ตัวแปรได้ทุกประเภทใน list"
      ],
      "metadata": {
        "colab": {
          "base_uri": "https://localhost:8080/"
        },
        "id": "8WEjbIT08oDG",
        "outputId": "ca324bf1-479a-4bbd-d0dd-033eb1042d3b"
      },
      "execution_count": null,
      "outputs": [
        {
          "output_type": "execute_result",
          "data": {
            "text/plain": [
              "['ab', 2, 3.14, [1, 2, 3, 4, 5, 6]]"
            ]
          },
          "metadata": {},
          "execution_count": 5
        }
      ]
    },
    {
      "cell_type": "markdown",
      "source": [
        "### indexing การชี้สมาชิกใน list ด้วย เลขลำดับของ list"
      ],
      "metadata": {
        "id": "Ldz-1qz89T8h"
      }
    },
    {
      "cell_type": "code",
      "source": [
        "list_a[3] # เอาสมาชิกตัวที่ 3"
      ],
      "metadata": {
        "colab": {
          "base_uri": "https://localhost:8080/"
        },
        "id": "aOPdT-_K8oFy",
        "outputId": "a4012442-47af-488d-c68e-c1db72c48a4b"
      },
      "execution_count": null,
      "outputs": [
        {
          "output_type": "execute_result",
          "data": {
            "text/plain": [
              "4"
            ]
          },
          "metadata": {},
          "execution_count": 7
        }
      ]
    },
    {
      "cell_type": "code",
      "source": [
        "list_b[3] # เอาสมาชิกตัวที่ 3"
      ],
      "metadata": {
        "colab": {
          "base_uri": "https://localhost:8080/"
        },
        "id": "oi56qgm49Z4s",
        "outputId": "4fa95692-417a-480c-f21c-454148954178"
      },
      "execution_count": null,
      "outputs": [
        {
          "output_type": "execute_result",
          "data": {
            "text/plain": [
              "[1, 2, 3, 4, 5, 6]"
            ]
          },
          "metadata": {},
          "execution_count": 8
        }
      ]
    },
    {
      "cell_type": "code",
      "source": [
        "list_b[3][3] # เอาสมาชิกตัวที่ 3 เเละเอาสมาชิกตัวที่ 3 ใน list นั้น"
      ],
      "metadata": {
        "colab": {
          "base_uri": "https://localhost:8080/"
        },
        "id": "llDj667c9dAg",
        "outputId": "c08d3a51-effd-4b08-d22d-7e9d7063855a"
      },
      "execution_count": null,
      "outputs": [
        {
          "output_type": "execute_result",
          "data": {
            "text/plain": [
              "4"
            ]
          },
          "metadata": {},
          "execution_count": 9
        }
      ]
    },
    {
      "cell_type": "code",
      "source": [
        "list_b[3][4] # เอาสมาชิกตัวที่ 3 เเละเอาสมาชิกตัวที่ 4 ใน list นั้น"
      ],
      "metadata": {
        "colab": {
          "base_uri": "https://localhost:8080/"
        },
        "id": "CivxdZlh93mC",
        "outputId": "db61c09a-98d4-4ff2-e702-2e804dac08c6"
      },
      "execution_count": null,
      "outputs": [
        {
          "output_type": "execute_result",
          "data": {
            "text/plain": [
              "5"
            ]
          },
          "metadata": {},
          "execution_count": 12
        }
      ]
    },
    {
      "cell_type": "code",
      "source": [
        "list_a[6] # ถ้าเรียกลำดับที่ไม่ได้มี ก็จะ error"
      ],
      "metadata": {
        "colab": {
          "base_uri": "https://localhost:8080/",
          "height": 165
        },
        "id": "fA9t7ksg-MQ1",
        "outputId": "77f549d8-90af-429c-bd2a-0f999600f1b8"
      },
      "execution_count": null,
      "outputs": [
        {
          "output_type": "error",
          "ename": "IndexError",
          "evalue": "ignored",
          "traceback": [
            "\u001b[0;31m---------------------------------------------------------------------------\u001b[0m",
            "\u001b[0;31mIndexError\u001b[0m                                Traceback (most recent call last)",
            "\u001b[0;32m<ipython-input-13-a63bbd95e3e0>\u001b[0m in \u001b[0;36m<cell line: 1>\u001b[0;34m()\u001b[0m\n\u001b[0;32m----> 1\u001b[0;31m \u001b[0mlist_a\u001b[0m\u001b[0;34m[\u001b[0m\u001b[0;36m6\u001b[0m\u001b[0;34m]\u001b[0m \u001b[0;31m# ถ้าเรียกลำดับที่ไม่ได้มี ก็จะ error\u001b[0m\u001b[0;34m\u001b[0m\u001b[0;34m\u001b[0m\u001b[0m\n\u001b[0m",
            "\u001b[0;31mIndexError\u001b[0m: list index out of range"
          ]
        }
      ]
    },
    {
      "cell_type": "code",
      "source": [
        "list_a\n"
      ],
      "metadata": {
        "colab": {
          "base_uri": "https://localhost:8080/"
        },
        "id": "-jaXsxbe-hHY",
        "outputId": "d60df0ae-b2db-4904-d97b-1e2a2092593e"
      },
      "execution_count": null,
      "outputs": [
        {
          "output_type": "execute_result",
          "data": {
            "text/plain": [
              "[1, 2, 3, 4, 5, 6]"
            ]
          },
          "metadata": {},
          "execution_count": 16
        }
      ]
    },
    {
      "cell_type": "code",
      "source": [
        "list_a[-1] # index -1 คือตัวสุดท้ายของ list"
      ],
      "metadata": {
        "colab": {
          "base_uri": "https://localhost:8080/"
        },
        "id": "Sb1v9oTU-OYD",
        "outputId": "f799131d-9aea-4ced-9761-e6af7d5c349f"
      },
      "execution_count": null,
      "outputs": [
        {
          "output_type": "execute_result",
          "data": {
            "text/plain": [
              "6"
            ]
          },
          "metadata": {},
          "execution_count": 14
        }
      ]
    },
    {
      "cell_type": "code",
      "source": [
        "list_a[-4] # index ติดลบ นับจากท้าย"
      ],
      "metadata": {
        "colab": {
          "base_uri": "https://localhost:8080/"
        },
        "id": "3rFSwa1c-cuM",
        "outputId": "42a6b37b-17c7-41c2-f820-5cbfa9d6c37e"
      },
      "execution_count": null,
      "outputs": [
        {
          "output_type": "execute_result",
          "data": {
            "text/plain": [
              "3"
            ]
          },
          "metadata": {},
          "execution_count": 15
        }
      ]
    },
    {
      "cell_type": "markdown",
      "source": [
        "### การสร้าง ```list()```"
      ],
      "metadata": {
        "id": "3cNTtSBT-6pr"
      }
    },
    {
      "cell_type": "code",
      "source": [
        "list_x1 = [] # เเบบที่ 1\n",
        "list_x2 = list() # แบบที่ 2"
      ],
      "metadata": {
        "id": "bC0YpiIH-8v9"
      },
      "execution_count": null,
      "outputs": []
    },
    {
      "cell_type": "code",
      "source": [
        "list_x1\n",
        "list_x2 # จะ show output ของตัวล่าสุด\n",
        "print('3')"
      ],
      "metadata": {
        "colab": {
          "base_uri": "https://localhost:8080/"
        },
        "id": "WOWR4O5l--84",
        "outputId": "1c9f749e-3523-46ef-9a35-0bcd9c15896a"
      },
      "execution_count": null,
      "outputs": [
        {
          "output_type": "stream",
          "name": "stdout",
          "text": [
            "3\n"
          ]
        }
      ]
    },
    {
      "cell_type": "code",
      "source": [
        "print(list_x1)\n",
        "print(list_x2) # show output ทั้งสองอัน\n"
      ],
      "metadata": {
        "colab": {
          "base_uri": "https://localhost:8080/"
        },
        "id": "Jzejngzf_Kz_",
        "outputId": "ba576bbf-ba7b-4430-d85b-f4d10f11cf2b"
      },
      "execution_count": null,
      "outputs": [
        {
          "output_type": "stream",
          "name": "stdout",
          "text": [
            "[]\n",
            "[]\n"
          ]
        }
      ]
    },
    {
      "cell_type": "markdown",
      "source": [
        "### เพิ่มสมาชิกเข้าไปใน list ด้วย ```append()```"
      ],
      "metadata": {
        "id": "JODxDc22_vZX"
      }
    },
    {
      "cell_type": "code",
      "source": [
        "list_x1.append(2)  # เก็บ 2 ไว้ใน list_x1"
      ],
      "metadata": {
        "id": "fDNKMTsv_wt1"
      },
      "execution_count": null,
      "outputs": []
    },
    {
      "cell_type": "code",
      "source": [
        "list_x1"
      ],
      "metadata": {
        "colab": {
          "base_uri": "https://localhost:8080/"
        },
        "id": "sy5pQg9V_wwZ",
        "outputId": "3a3be794-3c43-4d99-ddcc-7a00e55256ad"
      },
      "execution_count": null,
      "outputs": [
        {
          "output_type": "execute_result",
          "data": {
            "text/plain": [
              "[2]"
            ]
          },
          "metadata": {},
          "execution_count": 24
        }
      ]
    },
    {
      "cell_type": "code",
      "source": [
        "list_x1.append(4) # นำ 4 เข้าไปเก็บไว้ใน list_x1\n",
        "print(list_x1)"
      ],
      "metadata": {
        "colab": {
          "base_uri": "https://localhost:8080/"
        },
        "id": "WU02h2BB_1CP",
        "outputId": "ffeebfc5-42e4-4c45-f848-c6928877b052"
      },
      "execution_count": null,
      "outputs": [
        {
          "output_type": "stream",
          "name": "stdout",
          "text": [
            "[2, 4]\n"
          ]
        }
      ]
    },
    {
      "cell_type": "code",
      "source": [
        "list_x1[0] # ชี้สมาชิกตัวเเรก ใน list_x1"
      ],
      "metadata": {
        "colab": {
          "base_uri": "https://localhost:8080/"
        },
        "id": "Uab-GLVK_1ER",
        "outputId": "7474ddf4-6e04-4efc-b194-b708610d653b"
      },
      "execution_count": null,
      "outputs": [
        {
          "output_type": "execute_result",
          "data": {
            "text/plain": [
              "2"
            ]
          },
          "metadata": {},
          "execution_count": 26
        }
      ]
    },
    {
      "cell_type": "code",
      "source": [
        "list_x1[-1] # ชี้สมาชิกตัวสุดท้าย ใน list_x1"
      ],
      "metadata": {
        "colab": {
          "base_uri": "https://localhost:8080/"
        },
        "id": "Lo2CUHga_1GI",
        "outputId": "2e90faf3-ca5f-4b8f-8416-0364375df851"
      },
      "execution_count": null,
      "outputs": [
        {
          "output_type": "execute_result",
          "data": {
            "text/plain": [
              "4"
            ]
          },
          "metadata": {},
          "execution_count": 27
        }
      ]
    },
    {
      "cell_type": "code",
      "source": [
        "list_x2"
      ],
      "metadata": {
        "colab": {
          "base_uri": "https://localhost:8080/"
        },
        "id": "BtpS3sTqAL8S",
        "outputId": "418e5926-262d-4b75-ea70-146cbdd44d07"
      },
      "execution_count": null,
      "outputs": [
        {
          "output_type": "execute_result",
          "data": {
            "text/plain": [
              "[]"
            ]
          },
          "metadata": {},
          "execution_count": 28
        }
      ]
    },
    {
      "cell_type": "markdown",
      "source": [
        "### ลบสมาชิกจาก list"
      ],
      "metadata": {
        "id": "pEvA5OK0AM7x"
      }
    },
    {
      "cell_type": "code",
      "source": [
        "list_x2.append('ha') # เติม ha ใน list_x2"
      ],
      "metadata": {
        "id": "5RgfRyQ5AOfb"
      },
      "execution_count": null,
      "outputs": []
    },
    {
      "cell_type": "code",
      "source": [
        "list_x2 # ผลลัพธ์ของ list_x2"
      ],
      "metadata": {
        "colab": {
          "base_uri": "https://localhost:8080/"
        },
        "id": "luGEkkMQAOj-",
        "outputId": "93282e60-8052-4af2-aba4-f4786c0ee3c3"
      },
      "execution_count": null,
      "outputs": [
        {
          "output_type": "execute_result",
          "data": {
            "text/plain": [
              "['ha', 'ha']"
            ]
          },
          "metadata": {},
          "execution_count": 31
        }
      ]
    },
    {
      "cell_type": "code",
      "source": [
        "list_x1"
      ],
      "metadata": {
        "colab": {
          "base_uri": "https://localhost:8080/"
        },
        "id": "EEDECkZ-Ansb",
        "outputId": "94c9befe-22d0-4498-a027-531a93001e72"
      },
      "execution_count": null,
      "outputs": [
        {
          "output_type": "execute_result",
          "data": {
            "text/plain": [
              "[2, 4]"
            ]
          },
          "metadata": {},
          "execution_count": 38
        }
      ]
    },
    {
      "cell_type": "code",
      "source": [
        "list_x1.append('ha') # เติม ha ใน list_x1"
      ],
      "metadata": {
        "id": "nUf3IW8vAvNv"
      },
      "execution_count": null,
      "outputs": []
    },
    {
      "cell_type": "code",
      "source": [
        "list_x1"
      ],
      "metadata": {
        "colab": {
          "base_uri": "https://localhost:8080/"
        },
        "id": "qvDTJn11AzKN",
        "outputId": "1f42bb8b-febc-441c-ea6b-38088bf8ac78"
      },
      "execution_count": null,
      "outputs": [
        {
          "output_type": "execute_result",
          "data": {
            "text/plain": [
              "[2, 4, 'ha', 'ha']"
            ]
          },
          "metadata": {},
          "execution_count": 41
        }
      ]
    },
    {
      "cell_type": "code",
      "source": [
        "list_x1.pop() # จะลบจากตัวท้ายสุดก่อน"
      ],
      "metadata": {
        "colab": {
          "base_uri": "https://localhost:8080/",
          "height": 36
        },
        "id": "jgep73OEAUFa",
        "outputId": "c842e8d8-1c0a-463b-dcf9-bc7c5573f8f6"
      },
      "execution_count": null,
      "outputs": [
        {
          "output_type": "execute_result",
          "data": {
            "text/plain": [
              "'ha'"
            ],
            "application/vnd.google.colaboratory.intrinsic+json": {
              "type": "string"
            }
          },
          "metadata": {},
          "execution_count": 42
        }
      ]
    },
    {
      "cell_type": "code",
      "source": [
        "print(list_x1) # เเสดง output ของ list_x1"
      ],
      "metadata": {
        "colab": {
          "base_uri": "https://localhost:8080/"
        },
        "id": "OGuSQdewAUHy",
        "outputId": "174fbc57-9733-46b9-93fd-28449bae06bf"
      },
      "execution_count": null,
      "outputs": [
        {
          "output_type": "stream",
          "name": "stdout",
          "text": [
            "[2, 4, 'ha']\n"
          ]
        }
      ]
    },
    {
      "cell_type": "markdown",
      "source": [
        "len() ตรวจสอบจำนวนสมาชิกของ list"
      ],
      "metadata": {
        "id": "7ROtoDsHBQ1h"
      }
    },
    {
      "cell_type": "code",
      "source": [
        "print(list_b) # เเสดง list_b\n",
        "print(len(list_b)) # เเสดงจำนวนสมาชิกของ list_b"
      ],
      "metadata": {
        "colab": {
          "base_uri": "https://localhost:8080/"
        },
        "id": "yhAspYLIAgc9",
        "outputId": "8cb3b96a-7d6a-4d10-a7df-d93deda11124"
      },
      "execution_count": null,
      "outputs": [
        {
          "output_type": "stream",
          "name": "stdout",
          "text": [
            "['ab', 2, 3.14, [1, 2, 3, 4, 5, 6]]\n",
            "4\n"
          ]
        }
      ]
    },
    {
      "cell_type": "code",
      "source": [
        "len(list_a) # เเสดงจำนวนสมาชิกของ list_a"
      ],
      "metadata": {
        "colab": {
          "base_uri": "https://localhost:8080/"
        },
        "id": "O7cNJgC3BTvV",
        "outputId": "daff28f9-a8e5-45c9-873f-e42ba25f1928"
      },
      "execution_count": null,
      "outputs": [
        {
          "output_type": "execute_result",
          "data": {
            "text/plain": [
              "6"
            ]
          },
          "metadata": {},
          "execution_count": 45
        }
      ]
    },
    {
      "cell_type": "markdown",
      "source": [
        "### String is a list of characters\n"
      ],
      "metadata": {
        "id": "MciyuXRyBVCI"
      }
    },
    {
      "cell_type": "code",
      "source": [
        "st_stat = 'Department od Statistics, Faculty of Science' # กำหนด string"
      ],
      "metadata": {
        "id": "4F9BnrfFCRLh"
      },
      "execution_count": null,
      "outputs": []
    },
    {
      "cell_type": "code",
      "source": [
        "st_stat[10] # เอาสมาชิกตัวที่ 10"
      ],
      "metadata": {
        "colab": {
          "base_uri": "https://localhost:8080/",
          "height": 36
        },
        "id": "YaAQCreqBZiN",
        "outputId": "eb8935c3-1167-471c-fb4f-863a41813624"
      },
      "execution_count": null,
      "outputs": [
        {
          "output_type": "execute_result",
          "data": {
            "text/plain": [
              "' '"
            ],
            "application/vnd.google.colaboratory.intrinsic+json": {
              "type": "string"
            }
          },
          "metadata": {},
          "execution_count": 47
        }
      ]
    },
    {
      "cell_type": "code",
      "source": [
        "len(st_stat) # มีความยาวเท่าไหร่"
      ],
      "metadata": {
        "colab": {
          "base_uri": "https://localhost:8080/"
        },
        "id": "stk0eXL6Bbq2",
        "outputId": "b19a802f-f3f1-4d6e-a368-be7563687870"
      },
      "execution_count": null,
      "outputs": [
        {
          "output_type": "execute_result",
          "data": {
            "text/plain": [
              "44"
            ]
          },
          "metadata": {},
          "execution_count": 48
        }
      ]
    },
    {
      "cell_type": "markdown",
      "source": [
        "[link text](https://)\n",
        "### List Slicing ```:```\n",
        "\n",
        "`list[จุดเเริ่มต้น  (ทึบ):จุดสุดท้าย  (โปร่ง)]`\n",
        "\n",
        "`list[จุดเเริ่มต้น  (ทึบ):จุดสุดท้าย  (โปร่ง):step]`"
      ],
      "metadata": {
        "id": "Z-XtowPexjGx"
      }
    },
    {
      "cell_type": "code",
      "source": [
        "list_a= [0,1,2,3,4,5,6]"
      ],
      "metadata": {
        "id": "hdywk-sRxlJp"
      },
      "execution_count": 6,
      "outputs": []
    },
    {
      "cell_type": "code",
      "source": [
        "list_a # เเสดง list_a"
      ],
      "metadata": {
        "id": "RWS4dRySyTwg",
        "outputId": "2e27add3-bccb-47de-bd44-081a9933f8e5",
        "colab": {
          "base_uri": "https://localhost:8080/"
        }
      },
      "execution_count": 7,
      "outputs": [
        {
          "output_type": "execute_result",
          "data": {
            "text/plain": [
              "[0, 1, 2, 3, 4, 5, 6]"
            ]
          },
          "metadata": {},
          "execution_count": 7
        }
      ]
    },
    {
      "cell_type": "code",
      "source": [
        "list_a[3] # จะเเสดงเลข 3 ออกมา"
      ],
      "metadata": {
        "id": "kvcNJjR4yXqw",
        "outputId": "50b7ae93-feda-4db6-cdaf-a171f5854050",
        "colab": {
          "base_uri": "https://localhost:8080/"
        }
      },
      "execution_count": 9,
      "outputs": [
        {
          "output_type": "execute_result",
          "data": {
            "text/plain": [
              "3"
            ]
          },
          "metadata": {},
          "execution_count": 9
        }
      ]
    },
    {
      "cell_type": "markdown",
      "source": [
        "#### `:` colon\n"
      ],
      "metadata": {
        "id": "drKq0eJOzJSi"
      }
    },
    {
      "cell_type": "code",
      "source": [
        "list_a[1:4] #ตัดเฉพาะตัวที่ 1,2,3 ออกมา"
      ],
      "metadata": {
        "id": "PkFAsYFAym8Q",
        "outputId": "9cf4d385-fd09-4f00-844e-b3f0cd417e63",
        "colab": {
          "base_uri": "https://localhost:8080/"
        }
      },
      "execution_count": 10,
      "outputs": [
        {
          "output_type": "execute_result",
          "data": {
            "text/plain": [
              "[1, 2, 3]"
            ]
          },
          "metadata": {},
          "execution_count": 10
        }
      ]
    },
    {
      "cell_type": "code",
      "source": [
        "list_a[-3:] #colon ดึงสมาชิกสามตัวท้ายออกมา"
      ],
      "metadata": {
        "id": "9Pj6pZ8CzTxA",
        "outputId": "01b6b458-12fc-4a3c-ce64-97edfa233dfb",
        "colab": {
          "base_uri": "https://localhost:8080/"
        }
      },
      "execution_count": 12,
      "outputs": [
        {
          "output_type": "execute_result",
          "data": {
            "text/plain": [
              "[4, 5, 6]"
            ]
          },
          "metadata": {},
          "execution_count": 12
        }
      ]
    },
    {
      "cell_type": "code",
      "source": [
        "list_a[:4] # เอาตั้งแต่ 0,1,2,3"
      ],
      "metadata": {
        "id": "T5OhHwNzzeMG",
        "outputId": "0ba6822c-ad67-4539-c30f-e7e4e290659a",
        "colab": {
          "base_uri": "https://localhost:8080/"
        }
      },
      "execution_count": 13,
      "outputs": [
        {
          "output_type": "execute_result",
          "data": {
            "text/plain": [
              "[0, 1, 2, 3]"
            ]
          },
          "metadata": {},
          "execution_count": 13
        }
      ]
    },
    {
      "cell_type": "code",
      "source": [
        "list_a[1:4] #จะเอ่าเลข 1,2,3"
      ],
      "metadata": {
        "id": "gHU3lzkUzerv",
        "outputId": "f14b04c8-3e53-4ed7-87b1-8f734b5fe575",
        "colab": {
          "base_uri": "https://localhost:8080/"
        }
      },
      "execution_count": 15,
      "outputs": [
        {
          "output_type": "execute_result",
          "data": {
            "text/plain": [
              "[1, 2, 3]"
            ]
          },
          "metadata": {},
          "execution_count": 15
        }
      ]
    },
    {
      "cell_type": "code",
      "source": [
        "list_a[:] # คือเอาทุกตัว"
      ],
      "metadata": {
        "id": "rYpj3USvzXJg",
        "outputId": "9e31adb3-46ff-484a-a812-c753e7912e7a",
        "colab": {
          "base_uri": "https://localhost:8080/"
        }
      },
      "execution_count": 16,
      "outputs": [
        {
          "output_type": "execute_result",
          "data": {
            "text/plain": [
              "[0, 1, 2, 3, 4, 5, 6]"
            ]
          },
          "metadata": {},
          "execution_count": 16
        }
      ]
    },
    {
      "cell_type": "markdown",
      "source": [
        "#### step"
      ],
      "metadata": {
        "id": "fEI9wDQx0nwA"
      }
    },
    {
      "cell_type": "code",
      "source": [
        "list_a[1:-1:2]"
      ],
      "metadata": {
        "id": "RaoNgwUb0oip",
        "outputId": "7780c729-e7a6-4bbd-c296-b5b0e70c39a4",
        "colab": {
          "base_uri": "https://localhost:8080/"
        }
      },
      "execution_count": 17,
      "outputs": [
        {
          "output_type": "execute_result",
          "data": {
            "text/plain": [
              "[1, 3, 5]"
            ]
          },
          "metadata": {},
          "execution_count": 17
        }
      ]
    },
    {
      "cell_type": "code",
      "source": [
        "list_c = [1,2,3,4,5,6,7,8,9,10,11,12,13] # กำหนด list_c"
      ],
      "metadata": {
        "id": "XO5zdLx90zdo"
      },
      "execution_count": 18,
      "outputs": []
    },
    {
      "cell_type": "code",
      "source": [
        "list_c[:10:2] #กระโดดทีละ 2 ชั้น"
      ],
      "metadata": {
        "id": "yYIavjQt1GKv",
        "outputId": "6a7c740e-08ca-4e09-c16e-84d86b157c2d",
        "colab": {
          "base_uri": "https://localhost:8080/"
        }
      },
      "execution_count": 19,
      "outputs": [
        {
          "output_type": "execute_result",
          "data": {
            "text/plain": [
              "[1, 3, 5, 7, 9]"
            ]
          },
          "metadata": {},
          "execution_count": 19
        }
      ]
    },
    {
      "cell_type": "code",
      "source": [
        "list_c[::-1] #แบบกลับหลัง"
      ],
      "metadata": {
        "id": "WMXB6CvM1eLQ",
        "outputId": "dcfaa295-9b6b-4da0-ca0d-89ca1a2a8853",
        "colab": {
          "base_uri": "https://localhost:8080/"
        }
      },
      "execution_count": 20,
      "outputs": [
        {
          "output_type": "execute_result",
          "data": {
            "text/plain": [
              "[13, 12, 11, 10, 9, 8, 7, 6, 5, 4, 3, 2, 1]"
            ]
          },
          "metadata": {},
          "execution_count": 20
        }
      ]
    },
    {
      "cell_type": "markdown",
      "source": [
        "## HW 1"
      ],
      "metadata": {
        "id": "2Km-pGL091_w"
      }
    },
    {
      "cell_type": "code",
      "source": [],
      "metadata": {
        "id": "-1EsD0M593Ev"
      },
      "execution_count": null,
      "outputs": []
    }
  ]
}