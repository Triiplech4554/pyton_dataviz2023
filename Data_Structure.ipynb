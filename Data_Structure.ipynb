{
  "nbformat": 4,
  "nbformat_minor": 0,
  "metadata": {
    "colab": {
      "provenance": [],
      "authorship_tag": "ABX9TyOICgnYlIDklReRZ99/BE2u",
      "include_colab_link": true
    },
    "kernelspec": {
      "name": "python3",
      "display_name": "Python 3"
    },
    "language_info": {
      "name": "python"
    }
  },
  "cells": [
    {
      "cell_type": "markdown",
      "metadata": {
        "id": "view-in-github",
        "colab_type": "text"
      },
      "source": [
        "<a href=\"https://colab.research.google.com/github/Triiplech4554/pyton_dataviz2023/blob/main/Data_Structure.ipynb\" target=\"_parent\"><img src=\"https://colab.research.google.com/assets/colab-badge.svg\" alt=\"Open In Colab\"/></a>"
      ]
    },
    {
      "cell_type": "markdown",
      "source": [
        "# Data Structure (โครงสร้างข้อมูล)\n",
        "การเก็บข้อมูลหลาย ๆ ตัวไว้ด้วยกันอย่างเป็นระเบียบ"
      ],
      "metadata": {
        "id": "6ZiDuiCO7ko6"
      }
    },
    {
      "cell_type": "markdown",
      "source": [
        "list()\n",
        "เก็บอะไรก็ได้\n",
        "ลำดับในการเก็บ มีความสำคัญ\n"
      ],
      "metadata": {
        "id": "fe6izp9I7o2h"
      }
    },
    {
      "cell_type": "code",
      "source": [
        "list_a = [1,2,3,4,5,6] # กำหนดตัวแปร"
      ],
      "metadata": {
        "id": "-kLdwv1U7peR"
      },
      "execution_count": null,
      "outputs": []
    },
    {
      "cell_type": "code",
      "source": [
        "list_a # [ ] square brackets เอาไว้คลอบ list"
      ],
      "metadata": {
        "colab": {
          "base_uri": "https://localhost:8080/"
        },
        "id": "yk00LY8T8n6b",
        "outputId": "b0a71b13-8ab0-463a-e641-eb26a8c66c7f"
      },
      "execution_count": null,
      "outputs": [
        {
          "output_type": "execute_result",
          "data": {
            "text/plain": [
              "[1, 2, 3, 4, 5, 6]"
            ]
          },
          "metadata": {},
          "execution_count": 3
        }
      ]
    },
    {
      "cell_type": "code",
      "source": [
        "list_b = ['ab',2,3.14 , list_a] # กำหนดตัวแปร"
      ],
      "metadata": {
        "id": "n8n22qcV8oAm"
      },
      "execution_count": null,
      "outputs": []
    },
    {
      "cell_type": "code",
      "source": [
        "list_b = ['ab',2,3.14 , list_a] #จะเก็บอะไรก็ได้"
      ],
      "metadata": {
        "id": "7NPBqMAg8xhx"
      },
      "execution_count": null,
      "outputs": []
    },
    {
      "cell_type": "code",
      "source": [
        "list_b # สามารถเก็บได้ตัวแปรได้ทุกประเภทใน list"
      ],
      "metadata": {
        "colab": {
          "base_uri": "https://localhost:8080/"
        },
        "id": "8WEjbIT08oDG",
        "outputId": "ca324bf1-479a-4bbd-d0dd-033eb1042d3b"
      },
      "execution_count": null,
      "outputs": [
        {
          "output_type": "execute_result",
          "data": {
            "text/plain": [
              "['ab', 2, 3.14, [1, 2, 3, 4, 5, 6]]"
            ]
          },
          "metadata": {},
          "execution_count": 5
        }
      ]
    },
    {
      "cell_type": "markdown",
      "source": [
        "### indexing การชี้สมาชิกใน list ด้วย เลขลำดับของ list"
      ],
      "metadata": {
        "id": "Ldz-1qz89T8h"
      }
    },
    {
      "cell_type": "code",
      "source": [
        "list_a[3] # เอาสมาชิกตัวที่ 3"
      ],
      "metadata": {
        "colab": {
          "base_uri": "https://localhost:8080/"
        },
        "id": "aOPdT-_K8oFy",
        "outputId": "a4012442-47af-488d-c68e-c1db72c48a4b"
      },
      "execution_count": null,
      "outputs": [
        {
          "output_type": "execute_result",
          "data": {
            "text/plain": [
              "4"
            ]
          },
          "metadata": {},
          "execution_count": 7
        }
      ]
    },
    {
      "cell_type": "code",
      "source": [
        "list_b[3] # เอาสมาชิกตัวที่ 3"
      ],
      "metadata": {
        "colab": {
          "base_uri": "https://localhost:8080/"
        },
        "id": "oi56qgm49Z4s",
        "outputId": "4fa95692-417a-480c-f21c-454148954178"
      },
      "execution_count": null,
      "outputs": [
        {
          "output_type": "execute_result",
          "data": {
            "text/plain": [
              "[1, 2, 3, 4, 5, 6]"
            ]
          },
          "metadata": {},
          "execution_count": 8
        }
      ]
    },
    {
      "cell_type": "code",
      "source": [
        "list_b[3][3] # เอาสมาชิกตัวที่ 3 เเละเอาสมาชิกตัวที่ 3 ใน list นั้น"
      ],
      "metadata": {
        "colab": {
          "base_uri": "https://localhost:8080/"
        },
        "id": "llDj667c9dAg",
        "outputId": "c08d3a51-effd-4b08-d22d-7e9d7063855a"
      },
      "execution_count": null,
      "outputs": [
        {
          "output_type": "execute_result",
          "data": {
            "text/plain": [
              "4"
            ]
          },
          "metadata": {},
          "execution_count": 9
        }
      ]
    },
    {
      "cell_type": "code",
      "source": [
        "list_b[3][4] # เอาสมาชิกตัวที่ 3 เเละเอาสมาชิกตัวที่ 4 ใน list นั้น"
      ],
      "metadata": {
        "colab": {
          "base_uri": "https://localhost:8080/"
        },
        "id": "CivxdZlh93mC",
        "outputId": "db61c09a-98d4-4ff2-e702-2e804dac08c6"
      },
      "execution_count": null,
      "outputs": [
        {
          "output_type": "execute_result",
          "data": {
            "text/plain": [
              "5"
            ]
          },
          "metadata": {},
          "execution_count": 12
        }
      ]
    },
    {
      "cell_type": "code",
      "source": [
        "list_a[6] # ถ้าเรียกลำดับที่ไม่ได้มี ก็จะ error"
      ],
      "metadata": {
        "colab": {
          "base_uri": "https://localhost:8080/",
          "height": 165
        },
        "id": "fA9t7ksg-MQ1",
        "outputId": "77f549d8-90af-429c-bd2a-0f999600f1b8"
      },
      "execution_count": null,
      "outputs": [
        {
          "output_type": "error",
          "ename": "IndexError",
          "evalue": "ignored",
          "traceback": [
            "\u001b[0;31m---------------------------------------------------------------------------\u001b[0m",
            "\u001b[0;31mIndexError\u001b[0m                                Traceback (most recent call last)",
            "\u001b[0;32m<ipython-input-13-a63bbd95e3e0>\u001b[0m in \u001b[0;36m<cell line: 1>\u001b[0;34m()\u001b[0m\n\u001b[0;32m----> 1\u001b[0;31m \u001b[0mlist_a\u001b[0m\u001b[0;34m[\u001b[0m\u001b[0;36m6\u001b[0m\u001b[0;34m]\u001b[0m \u001b[0;31m# ถ้าเรียกลำดับที่ไม่ได้มี ก็จะ error\u001b[0m\u001b[0;34m\u001b[0m\u001b[0;34m\u001b[0m\u001b[0m\n\u001b[0m",
            "\u001b[0;31mIndexError\u001b[0m: list index out of range"
          ]
        }
      ]
    },
    {
      "cell_type": "code",
      "source": [
        "list_a\n"
      ],
      "metadata": {
        "colab": {
          "base_uri": "https://localhost:8080/"
        },
        "id": "-jaXsxbe-hHY",
        "outputId": "d60df0ae-b2db-4904-d97b-1e2a2092593e"
      },
      "execution_count": null,
      "outputs": [
        {
          "output_type": "execute_result",
          "data": {
            "text/plain": [
              "[1, 2, 3, 4, 5, 6]"
            ]
          },
          "metadata": {},
          "execution_count": 16
        }
      ]
    },
    {
      "cell_type": "code",
      "source": [
        "list_a[-1] # index -1 คือตัวสุดท้ายของ list"
      ],
      "metadata": {
        "colab": {
          "base_uri": "https://localhost:8080/"
        },
        "id": "Sb1v9oTU-OYD",
        "outputId": "f799131d-9aea-4ced-9761-e6af7d5c349f"
      },
      "execution_count": null,
      "outputs": [
        {
          "output_type": "execute_result",
          "data": {
            "text/plain": [
              "6"
            ]
          },
          "metadata": {},
          "execution_count": 14
        }
      ]
    },
    {
      "cell_type": "code",
      "source": [
        "list_a[-4] # index ติดลบ นับจากท้าย"
      ],
      "metadata": {
        "colab": {
          "base_uri": "https://localhost:8080/"
        },
        "id": "3rFSwa1c-cuM",
        "outputId": "42a6b37b-17c7-41c2-f820-5cbfa9d6c37e"
      },
      "execution_count": null,
      "outputs": [
        {
          "output_type": "execute_result",
          "data": {
            "text/plain": [
              "3"
            ]
          },
          "metadata": {},
          "execution_count": 15
        }
      ]
    },
    {
      "cell_type": "markdown",
      "source": [
        "### การสร้าง ```list()```"
      ],
      "metadata": {
        "id": "3cNTtSBT-6pr"
      }
    },
    {
      "cell_type": "code",
      "source": [
        "list_x1 = [] # เเบบที่ 1\n",
        "list_x2 = list() # แบบที่ 2"
      ],
      "metadata": {
        "id": "bC0YpiIH-8v9"
      },
      "execution_count": null,
      "outputs": []
    },
    {
      "cell_type": "code",
      "source": [
        "list_x1\n",
        "list_x2 # จะ show output ของตัวล่าสุด\n",
        "print('3')"
      ],
      "metadata": {
        "colab": {
          "base_uri": "https://localhost:8080/"
        },
        "id": "WOWR4O5l--84",
        "outputId": "1c9f749e-3523-46ef-9a35-0bcd9c15896a"
      },
      "execution_count": null,
      "outputs": [
        {
          "output_type": "stream",
          "name": "stdout",
          "text": [
            "3\n"
          ]
        }
      ]
    },
    {
      "cell_type": "code",
      "source": [
        "print(list_x1)\n",
        "print(list_x2) # show output ทั้งสองอัน\n"
      ],
      "metadata": {
        "colab": {
          "base_uri": "https://localhost:8080/"
        },
        "id": "Jzejngzf_Kz_",
        "outputId": "ba576bbf-ba7b-4430-d85b-f4d10f11cf2b"
      },
      "execution_count": null,
      "outputs": [
        {
          "output_type": "stream",
          "name": "stdout",
          "text": [
            "[]\n",
            "[]\n"
          ]
        }
      ]
    },
    {
      "cell_type": "markdown",
      "source": [
        "### เพิ่มสมาชิกเข้าไปใน list ด้วย ```append()```"
      ],
      "metadata": {
        "id": "JODxDc22_vZX"
      }
    },
    {
      "cell_type": "code",
      "source": [
        "list_x1.append(2)  # เก็บ 2 ไว้ใน list_x1"
      ],
      "metadata": {
        "id": "fDNKMTsv_wt1"
      },
      "execution_count": null,
      "outputs": []
    },
    {
      "cell_type": "code",
      "source": [
        "list_x1"
      ],
      "metadata": {
        "colab": {
          "base_uri": "https://localhost:8080/"
        },
        "id": "sy5pQg9V_wwZ",
        "outputId": "3a3be794-3c43-4d99-ddcc-7a00e55256ad"
      },
      "execution_count": null,
      "outputs": [
        {
          "output_type": "execute_result",
          "data": {
            "text/plain": [
              "[2]"
            ]
          },
          "metadata": {},
          "execution_count": 24
        }
      ]
    },
    {
      "cell_type": "code",
      "source": [
        "list_x1.append(4) # นำ 4 เข้าไปเก็บไว้ใน list_x1\n",
        "print(list_x1)"
      ],
      "metadata": {
        "colab": {
          "base_uri": "https://localhost:8080/"
        },
        "id": "WU02h2BB_1CP",
        "outputId": "ffeebfc5-42e4-4c45-f848-c6928877b052"
      },
      "execution_count": null,
      "outputs": [
        {
          "output_type": "stream",
          "name": "stdout",
          "text": [
            "[2, 4]\n"
          ]
        }
      ]
    },
    {
      "cell_type": "code",
      "source": [
        "list_x1[0] # ชี้สมาชิกตัวเเรก ใน list_x1"
      ],
      "metadata": {
        "colab": {
          "base_uri": "https://localhost:8080/"
        },
        "id": "Uab-GLVK_1ER",
        "outputId": "7474ddf4-6e04-4efc-b194-b708610d653b"
      },
      "execution_count": null,
      "outputs": [
        {
          "output_type": "execute_result",
          "data": {
            "text/plain": [
              "2"
            ]
          },
          "metadata": {},
          "execution_count": 26
        }
      ]
    },
    {
      "cell_type": "code",
      "source": [
        "list_x1[-1] # ชี้สมาชิกตัวสุดท้าย ใน list_x1"
      ],
      "metadata": {
        "colab": {
          "base_uri": "https://localhost:8080/"
        },
        "id": "Lo2CUHga_1GI",
        "outputId": "2e90faf3-ca5f-4b8f-8416-0364375df851"
      },
      "execution_count": null,
      "outputs": [
        {
          "output_type": "execute_result",
          "data": {
            "text/plain": [
              "4"
            ]
          },
          "metadata": {},
          "execution_count": 27
        }
      ]
    },
    {
      "cell_type": "code",
      "source": [
        "list_x2"
      ],
      "metadata": {
        "colab": {
          "base_uri": "https://localhost:8080/"
        },
        "id": "BtpS3sTqAL8S",
        "outputId": "418e5926-262d-4b75-ea70-146cbdd44d07"
      },
      "execution_count": null,
      "outputs": [
        {
          "output_type": "execute_result",
          "data": {
            "text/plain": [
              "[]"
            ]
          },
          "metadata": {},
          "execution_count": 28
        }
      ]
    },
    {
      "cell_type": "markdown",
      "source": [
        "### ลบสมาชิกจาก list"
      ],
      "metadata": {
        "id": "pEvA5OK0AM7x"
      }
    },
    {
      "cell_type": "code",
      "source": [
        "list_x2.append('ha') # เติม ha ใน list_x2"
      ],
      "metadata": {
        "id": "5RgfRyQ5AOfb"
      },
      "execution_count": null,
      "outputs": []
    },
    {
      "cell_type": "code",
      "source": [
        "list_x2 # ผลลัพธ์ของ list_x2"
      ],
      "metadata": {
        "colab": {
          "base_uri": "https://localhost:8080/"
        },
        "id": "luGEkkMQAOj-",
        "outputId": "93282e60-8052-4af2-aba4-f4786c0ee3c3"
      },
      "execution_count": null,
      "outputs": [
        {
          "output_type": "execute_result",
          "data": {
            "text/plain": [
              "['ha', 'ha']"
            ]
          },
          "metadata": {},
          "execution_count": 31
        }
      ]
    },
    {
      "cell_type": "code",
      "source": [
        "list_x1"
      ],
      "metadata": {
        "colab": {
          "base_uri": "https://localhost:8080/"
        },
        "id": "EEDECkZ-Ansb",
        "outputId": "94c9befe-22d0-4498-a027-531a93001e72"
      },
      "execution_count": null,
      "outputs": [
        {
          "output_type": "execute_result",
          "data": {
            "text/plain": [
              "[2, 4]"
            ]
          },
          "metadata": {},
          "execution_count": 38
        }
      ]
    },
    {
      "cell_type": "code",
      "source": [
        "list_x1.append('ha') # เติม ha ใน list_x1"
      ],
      "metadata": {
        "id": "nUf3IW8vAvNv"
      },
      "execution_count": null,
      "outputs": []
    },
    {
      "cell_type": "code",
      "source": [
        "list_x1"
      ],
      "metadata": {
        "colab": {
          "base_uri": "https://localhost:8080/"
        },
        "id": "qvDTJn11AzKN",
        "outputId": "1f42bb8b-febc-441c-ea6b-38088bf8ac78"
      },
      "execution_count": null,
      "outputs": [
        {
          "output_type": "execute_result",
          "data": {
            "text/plain": [
              "[2, 4, 'ha', 'ha']"
            ]
          },
          "metadata": {},
          "execution_count": 41
        }
      ]
    },
    {
      "cell_type": "code",
      "source": [
        "list_x1.pop() # จะลบจากตัวท้ายสุดก่อน"
      ],
      "metadata": {
        "colab": {
          "base_uri": "https://localhost:8080/",
          "height": 36
        },
        "id": "jgep73OEAUFa",
        "outputId": "c842e8d8-1c0a-463b-dcf9-bc7c5573f8f6"
      },
      "execution_count": null,
      "outputs": [
        {
          "output_type": "execute_result",
          "data": {
            "text/plain": [
              "'ha'"
            ],
            "application/vnd.google.colaboratory.intrinsic+json": {
              "type": "string"
            }
          },
          "metadata": {},
          "execution_count": 42
        }
      ]
    },
    {
      "cell_type": "code",
      "source": [
        "print(list_x1) # เเสดง output ของ list_x1"
      ],
      "metadata": {
        "colab": {
          "base_uri": "https://localhost:8080/"
        },
        "id": "OGuSQdewAUHy",
        "outputId": "174fbc57-9733-46b9-93fd-28449bae06bf"
      },
      "execution_count": null,
      "outputs": [
        {
          "output_type": "stream",
          "name": "stdout",
          "text": [
            "[2, 4, 'ha']\n"
          ]
        }
      ]
    },
    {
      "cell_type": "markdown",
      "source": [
        "len() ตรวจสอบจำนวนสมาชิกของ list"
      ],
      "metadata": {
        "id": "7ROtoDsHBQ1h"
      }
    },
    {
      "cell_type": "code",
      "source": [
        "print(list_b) # เเสดง list_b\n",
        "print(len(list_b)) # เเสดงจำนวนสมาชิกของ list_b"
      ],
      "metadata": {
        "colab": {
          "base_uri": "https://localhost:8080/"
        },
        "id": "yhAspYLIAgc9",
        "outputId": "8cb3b96a-7d6a-4d10-a7df-d93deda11124"
      },
      "execution_count": null,
      "outputs": [
        {
          "output_type": "stream",
          "name": "stdout",
          "text": [
            "['ab', 2, 3.14, [1, 2, 3, 4, 5, 6]]\n",
            "4\n"
          ]
        }
      ]
    },
    {
      "cell_type": "code",
      "source": [
        "len(list_a) # เเสดงจำนวนสมาชิกของ list_a"
      ],
      "metadata": {
        "colab": {
          "base_uri": "https://localhost:8080/"
        },
        "id": "O7cNJgC3BTvV",
        "outputId": "daff28f9-a8e5-45c9-873f-e42ba25f1928"
      },
      "execution_count": null,
      "outputs": [
        {
          "output_type": "execute_result",
          "data": {
            "text/plain": [
              "6"
            ]
          },
          "metadata": {},
          "execution_count": 45
        }
      ]
    },
    {
      "cell_type": "markdown",
      "source": [
        "### String is a list of characters\n"
      ],
      "metadata": {
        "id": "MciyuXRyBVCI"
      }
    },
    {
      "cell_type": "code",
      "source": [
        "st_stat = 'Department od Statistics, Faculty of Science' # กำหนด string"
      ],
      "metadata": {
        "id": "4F9BnrfFCRLh"
      },
      "execution_count": null,
      "outputs": []
    },
    {
      "cell_type": "code",
      "source": [
        "st_stat[10] # เอาสมาชิกตัวที่ 10"
      ],
      "metadata": {
        "colab": {
          "base_uri": "https://localhost:8080/",
          "height": 36
        },
        "id": "YaAQCreqBZiN",
        "outputId": "eb8935c3-1167-471c-fb4f-863a41813624"
      },
      "execution_count": null,
      "outputs": [
        {
          "output_type": "execute_result",
          "data": {
            "text/plain": [
              "' '"
            ],
            "application/vnd.google.colaboratory.intrinsic+json": {
              "type": "string"
            }
          },
          "metadata": {},
          "execution_count": 47
        }
      ]
    },
    {
      "cell_type": "code",
      "source": [
        "len(st_stat) # มีความยาวเท่าไหร่"
      ],
      "metadata": {
        "colab": {
          "base_uri": "https://localhost:8080/"
        },
        "id": "stk0eXL6Bbq2",
        "outputId": "b19a802f-f3f1-4d6e-a368-be7563687870"
      },
      "execution_count": null,
      "outputs": [
        {
          "output_type": "execute_result",
          "data": {
            "text/plain": [
              "44"
            ]
          },
          "metadata": {},
          "execution_count": 48
        }
      ]
    },
    {
      "cell_type": "markdown",
      "source": [
        "[link text](https://)\n",
        "### List Slicing ```:```\n",
        "\n",
        "`list[จุดเเริ่มต้น  (ทึบ):จุดสุดท้าย  (โปร่ง)]`\n",
        "\n",
        "`list[จุดเเริ่มต้น  (ทึบ):จุดสุดท้าย  (โปร่ง):step]`"
      ],
      "metadata": {
        "id": "Z-XtowPexjGx"
      }
    },
    {
      "cell_type": "code",
      "source": [
        "list_a= [0,1,2,3,4,5,6]"
      ],
      "metadata": {
        "id": "hdywk-sRxlJp"
      },
      "execution_count": null,
      "outputs": []
    },
    {
      "cell_type": "code",
      "source": [
        "list_a # เเสดง list_a"
      ],
      "metadata": {
        "id": "RWS4dRySyTwg",
        "outputId": "2e27add3-bccb-47de-bd44-081a9933f8e5",
        "colab": {
          "base_uri": "https://localhost:8080/"
        }
      },
      "execution_count": null,
      "outputs": [
        {
          "output_type": "execute_result",
          "data": {
            "text/plain": [
              "[0, 1, 2, 3, 4, 5, 6]"
            ]
          },
          "metadata": {},
          "execution_count": 7
        }
      ]
    },
    {
      "cell_type": "code",
      "source": [
        "list_a[3] # จะเเสดงเลข 3 ออกมา"
      ],
      "metadata": {
        "id": "kvcNJjR4yXqw",
        "outputId": "50b7ae93-feda-4db6-cdaf-a171f5854050",
        "colab": {
          "base_uri": "https://localhost:8080/"
        }
      },
      "execution_count": null,
      "outputs": [
        {
          "output_type": "execute_result",
          "data": {
            "text/plain": [
              "3"
            ]
          },
          "metadata": {},
          "execution_count": 9
        }
      ]
    },
    {
      "cell_type": "markdown",
      "source": [
        "#### `:` colon\n"
      ],
      "metadata": {
        "id": "drKq0eJOzJSi"
      }
    },
    {
      "cell_type": "code",
      "source": [
        "list_a[1:4] #ตัดเฉพาะตัวที่ 1,2,3 ออกมา"
      ],
      "metadata": {
        "id": "PkFAsYFAym8Q",
        "outputId": "9cf4d385-fd09-4f00-844e-b3f0cd417e63",
        "colab": {
          "base_uri": "https://localhost:8080/"
        }
      },
      "execution_count": null,
      "outputs": [
        {
          "output_type": "execute_result",
          "data": {
            "text/plain": [
              "[1, 2, 3]"
            ]
          },
          "metadata": {},
          "execution_count": 10
        }
      ]
    },
    {
      "cell_type": "code",
      "source": [
        "list_a[-3:] #colon ดึงสมาชิกสามตัวท้ายออกมา"
      ],
      "metadata": {
        "id": "9Pj6pZ8CzTxA",
        "outputId": "01b6b458-12fc-4a3c-ce64-97edfa233dfb",
        "colab": {
          "base_uri": "https://localhost:8080/"
        }
      },
      "execution_count": null,
      "outputs": [
        {
          "output_type": "execute_result",
          "data": {
            "text/plain": [
              "[4, 5, 6]"
            ]
          },
          "metadata": {},
          "execution_count": 12
        }
      ]
    },
    {
      "cell_type": "code",
      "source": [
        "list_a[:4] # เอาตั้งแต่ 0,1,2,3"
      ],
      "metadata": {
        "id": "T5OhHwNzzeMG",
        "outputId": "0ba6822c-ad67-4539-c30f-e7e4e290659a",
        "colab": {
          "base_uri": "https://localhost:8080/"
        }
      },
      "execution_count": null,
      "outputs": [
        {
          "output_type": "execute_result",
          "data": {
            "text/plain": [
              "[0, 1, 2, 3]"
            ]
          },
          "metadata": {},
          "execution_count": 13
        }
      ]
    },
    {
      "cell_type": "code",
      "source": [
        "list_a[1:4] #จะเอ่าเลข 1,2,3"
      ],
      "metadata": {
        "id": "gHU3lzkUzerv",
        "outputId": "f14b04c8-3e53-4ed7-87b1-8f734b5fe575",
        "colab": {
          "base_uri": "https://localhost:8080/"
        }
      },
      "execution_count": null,
      "outputs": [
        {
          "output_type": "execute_result",
          "data": {
            "text/plain": [
              "[1, 2, 3]"
            ]
          },
          "metadata": {},
          "execution_count": 15
        }
      ]
    },
    {
      "cell_type": "code",
      "source": [
        "list_a[:] # คือเอาทุกตัว"
      ],
      "metadata": {
        "id": "rYpj3USvzXJg",
        "outputId": "9e31adb3-46ff-484a-a812-c753e7912e7a",
        "colab": {
          "base_uri": "https://localhost:8080/"
        }
      },
      "execution_count": null,
      "outputs": [
        {
          "output_type": "execute_result",
          "data": {
            "text/plain": [
              "[0, 1, 2, 3, 4, 5, 6]"
            ]
          },
          "metadata": {},
          "execution_count": 16
        }
      ]
    },
    {
      "cell_type": "markdown",
      "source": [
        "#### step"
      ],
      "metadata": {
        "id": "fEI9wDQx0nwA"
      }
    },
    {
      "cell_type": "code",
      "source": [
        "list_a[1:-1:2]"
      ],
      "metadata": {
        "id": "RaoNgwUb0oip",
        "outputId": "7780c729-e7a6-4bbd-c296-b5b0e70c39a4",
        "colab": {
          "base_uri": "https://localhost:8080/"
        }
      },
      "execution_count": null,
      "outputs": [
        {
          "output_type": "execute_result",
          "data": {
            "text/plain": [
              "[1, 3, 5]"
            ]
          },
          "metadata": {},
          "execution_count": 17
        }
      ]
    },
    {
      "cell_type": "code",
      "source": [
        "list_c = [1,2,3,4,5,6,7,8,9,10,11,12,13] # กำหนด list_c"
      ],
      "metadata": {
        "id": "XO5zdLx90zdo"
      },
      "execution_count": null,
      "outputs": []
    },
    {
      "cell_type": "code",
      "source": [
        "list_c[:10:2] #กระโดดทีละ 2 ชั้น"
      ],
      "metadata": {
        "id": "yYIavjQt1GKv",
        "outputId": "6a7c740e-08ca-4e09-c16e-84d86b157c2d",
        "colab": {
          "base_uri": "https://localhost:8080/"
        }
      },
      "execution_count": null,
      "outputs": [
        {
          "output_type": "execute_result",
          "data": {
            "text/plain": [
              "[1, 3, 5, 7, 9]"
            ]
          },
          "metadata": {},
          "execution_count": 19
        }
      ]
    },
    {
      "cell_type": "code",
      "source": [
        "list_c[::-1] #แบบกลับหลัง"
      ],
      "metadata": {
        "id": "WMXB6CvM1eLQ",
        "outputId": "dcfaa295-9b6b-4da0-ca0d-89ca1a2a8853",
        "colab": {
          "base_uri": "https://localhost:8080/"
        }
      },
      "execution_count": null,
      "outputs": [
        {
          "output_type": "execute_result",
          "data": {
            "text/plain": [
              "[13, 12, 11, 10, 9, 8, 7, 6, 5, 4, 3, 2, 1]"
            ]
          },
          "metadata": {},
          "execution_count": 20
        }
      ]
    },
    {
      "cell_type": "markdown",
      "source": [
        "## HW 1\n",
        "คำนวณว่า ช่วงเวลาต่อไปนี้ ห่างกันกี่ชั่วโมง กี่นาที กี่วินาที (print ออกมาให้สวยงาม)\n",
        "\n",
        "- 12:30:15 - 13:41:07\n",
        "- 09:11:50 - 21:30:15\n",
        "- 19:25:30 - 03:10:15"
      ],
      "metadata": {
        "id": "2Km-pGL091_w"
      }
    },
    {
      "cell_type": "markdown",
      "source": [
        "## ข้อที่ 1"
      ],
      "metadata": {
        "id": "SnYBF02dSRVD"
      }
    },
    {
      "cell_type": "code",
      "source": [
        "a = '12:30:15'\n",
        "a_1 = a.split(':')\n",
        "print(a_1)"
      ],
      "metadata": {
        "id": "-1EsD0M593Ev",
        "outputId": "bc63fec6-746a-48bf-e3ff-cb5410266067",
        "colab": {
          "base_uri": "https://localhost:8080/"
        }
      },
      "execution_count": null,
      "outputs": [
        {
          "output_type": "stream",
          "name": "stdout",
          "text": [
            "['12', '30', '15']\n"
          ]
        }
      ]
    },
    {
      "cell_type": "code",
      "source": [
        "ans_a = int(a_1[0])*3600 + int (a_1[1])*60+int(a_1[2])\n",
        "print(ans_a)"
      ],
      "metadata": {
        "id": "PjPxtjlbSo8Y",
        "outputId": "709c5752-e700-4d7e-e47c-ec146ea4a0a2",
        "colab": {
          "base_uri": "https://localhost:8080/"
        }
      },
      "execution_count": null,
      "outputs": [
        {
          "output_type": "stream",
          "name": "stdout",
          "text": [
            "45015\n"
          ]
        }
      ]
    },
    {
      "cell_type": "code",
      "source": [
        "b = '13:41:07'\n",
        "b_1 = b.split(':')\n",
        "print(b_1)"
      ],
      "metadata": {
        "id": "NXnoWAopS5eY",
        "outputId": "37950969-370a-444c-c53b-62017e095b1e",
        "colab": {
          "base_uri": "https://localhost:8080/"
        }
      },
      "execution_count": null,
      "outputs": [
        {
          "output_type": "stream",
          "name": "stdout",
          "text": [
            "['13', '41', '07']\n"
          ]
        }
      ]
    },
    {
      "cell_type": "code",
      "source": [
        "ans_b = int(b_1[0])*3600 + int (b_1[1])*60+int(b_1[2])\n",
        "print(f'= เวลา {a} และ {b} มีระยะเวลาห่างกัน {ans_b-ans_a} วินาที')"
      ],
      "metadata": {
        "id": "WXGEzC87TMGz",
        "outputId": "f89f645f-a5ee-4e35-f3ee-b6f42df8e8b6",
        "colab": {
          "base_uri": "https://localhost:8080/"
        }
      },
      "execution_count": null,
      "outputs": [
        {
          "output_type": "stream",
          "name": "stdout",
          "text": [
            "= เวลา 12:30:15 และ 13:41:07 มีระยะเวลาห่างกัน 4252 วินาที\n"
          ]
        }
      ]
    },
    {
      "cell_type": "code",
      "source": [
        "c = 4252 #วินาที\n",
        "d = c //3600 #เปลี่ยนวิเป็น ชม\n",
        "e = (c//60)%60 #วินาทีเป็นนาที\n",
        "f = c % 60 #\n",
        "print (f'เวลา 12:30:15-13:41:07 มีระยะเวลาห่างกันเท่ากับ {d} ชั่วโมง {e} นาที {f} วินาที')"
      ],
      "metadata": {
        "id": "rNodFm2-UBk1",
        "outputId": "e285792b-d2cd-45b3-ed0c-e863bac29d0e",
        "colab": {
          "base_uri": "https://localhost:8080/"
        }
      },
      "execution_count": null,
      "outputs": [
        {
          "output_type": "stream",
          "name": "stdout",
          "text": [
            "เวลา 12:30:15-13:41:07 มีระยะเวลาห่างกันเท่ากับ 1 ชั่วโมง 10 นาที 52 วินาที\n"
          ]
        }
      ]
    },
    {
      "cell_type": "markdown",
      "source": [
        "## ข้อ 2"
      ],
      "metadata": {
        "id": "6M9u7aK9VNLQ"
      }
    },
    {
      "cell_type": "code",
      "source": [
        "a = '09:11:50'\n",
        "a_1 = a.split(':')\n",
        "print(a_1)"
      ],
      "metadata": {
        "id": "gny0EtpzVPft",
        "outputId": "ecd15537-ce99-4537-9f4f-55495096cc50",
        "colab": {
          "base_uri": "https://localhost:8080/"
        }
      },
      "execution_count": null,
      "outputs": [
        {
          "output_type": "stream",
          "name": "stdout",
          "text": [
            "['09', '11', '50']\n"
          ]
        }
      ]
    },
    {
      "cell_type": "code",
      "source": [
        "ans_a = int(a_1[0])*3600 + int (a_1[1])*60+int(a_1[2])\n",
        "print(ans_a)"
      ],
      "metadata": {
        "id": "h8pzmD4zVurq",
        "outputId": "8e230522-383e-425b-a94d-979c66e5a299",
        "colab": {
          "base_uri": "https://localhost:8080/"
        }
      },
      "execution_count": null,
      "outputs": [
        {
          "output_type": "stream",
          "name": "stdout",
          "text": [
            "33110\n"
          ]
        }
      ]
    },
    {
      "cell_type": "code",
      "source": [
        "b = '21:30:15'\n",
        "b_1 = b.split(':')\n",
        "print(b_1)"
      ],
      "metadata": {
        "id": "xDYh_ZASV0u7",
        "outputId": "19c3fc57-d03f-4225-8fcd-5a16e6910cb1",
        "colab": {
          "base_uri": "https://localhost:8080/"
        }
      },
      "execution_count": null,
      "outputs": [
        {
          "output_type": "stream",
          "name": "stdout",
          "text": [
            "['21', '30', '15']\n"
          ]
        }
      ]
    },
    {
      "cell_type": "code",
      "source": [
        "ans_b = int(b_1[0])*3600 + int (b_1[1])*60+int(b_1[2])\n",
        "print(f'= เวลา {a} และ {b} มีระยะเวลาห่างกัน {ans_b-ans_a} วินาที')"
      ],
      "metadata": {
        "id": "93_vrdIpV7nZ",
        "outputId": "9bae9842-9260-4f7b-acc7-ee9530de4649",
        "colab": {
          "base_uri": "https://localhost:8080/"
        }
      },
      "execution_count": null,
      "outputs": [
        {
          "output_type": "stream",
          "name": "stdout",
          "text": [
            "= เวลา 09:11:50 และ 21:30:15 มีระยะเวลาห่างกัน 44305 วินาที\n"
          ]
        }
      ]
    },
    {
      "cell_type": "code",
      "source": [
        "c = 44305 #วินาที\n",
        "d = c //3600 #เปลี่ยนวิเป็น ชม\n",
        "e = (c//60)%60 #วินาทีเป็นนาที\n",
        "f = c % 60 #\n",
        "print (f'เวลา 09:11:50-21:30:15 มีระยะเวลาห่างกันเท่ากับ {d} ชั่วโมง {e} นาที {f} วินาที')"
      ],
      "metadata": {
        "id": "NZzBmCH3WGRe",
        "outputId": "fe3a0672-9aef-4c39-abb6-693e88e65fd8",
        "colab": {
          "base_uri": "https://localhost:8080/"
        }
      },
      "execution_count": null,
      "outputs": [
        {
          "output_type": "stream",
          "name": "stdout",
          "text": [
            "เวลา 09:11:50-21:30:15 มีระยะเวลาห่างกันเท่ากับ 12 ชั่วโมง 18 นาที 25 วินาที\n"
          ]
        }
      ]
    },
    {
      "cell_type": "markdown",
      "source": [
        "## ข้อที่ 3"
      ],
      "metadata": {
        "id": "LsPtD00nXHMh"
      }
    },
    {
      "cell_type": "code",
      "source": [
        "a ='19:25:30'\n",
        "a_1 = a.split(':')\n",
        "print(a_1)"
      ],
      "metadata": {
        "id": "Bjs1xGTIXJmL",
        "outputId": "d42cdce5-dba9-4e22-943f-5b10d04b0586",
        "colab": {
          "base_uri": "https://localhost:8080/"
        }
      },
      "execution_count": null,
      "outputs": [
        {
          "output_type": "stream",
          "name": "stdout",
          "text": [
            "['19', '25', '30']\n"
          ]
        }
      ]
    },
    {
      "cell_type": "code",
      "source": [
        "h = int(a_1[0])*3600\n",
        "m = int (a_1[1])*60\n",
        "s = int(a_1[2])"
      ],
      "metadata": {
        "id": "w9lo1DM1YmR1"
      },
      "execution_count": null,
      "outputs": []
    },
    {
      "cell_type": "code",
      "source": [
        "b ='03:10:15'\n",
        "b_1 = b.split(':')\n",
        "print(b_1)"
      ],
      "metadata": {
        "id": "K9mi1mS0Y2QZ",
        "outputId": "df441eb2-ef9a-4720-d480-eb2355c1a3dc",
        "colab": {
          "base_uri": "https://localhost:8080/"
        }
      },
      "execution_count": null,
      "outputs": [
        {
          "output_type": "stream",
          "name": "stdout",
          "text": [
            "['03', '10', '15']\n"
          ]
        }
      ]
    },
    {
      "cell_type": "code",
      "source": [
        "h1 = int(b_1[0])*3600\n",
        "m1 = int (b_1[1])*60\n",
        "s1 = int(b_1[2])"
      ],
      "metadata": {
        "id": "DpU-jS8oZCBx"
      },
      "execution_count": null,
      "outputs": []
    },
    {
      "cell_type": "code",
      "source": [
        "T1 = h+m+s\n",
        "T2 = h1+m1+s1\n",
        "T3 = (T2+86400)-T1"
      ],
      "metadata": {
        "id": "cPW6PAvKZQHz"
      },
      "execution_count": null,
      "outputs": []
    },
    {
      "cell_type": "code",
      "source": [
        "T_h = int(T3/3600)\n",
        "T_m = int((T3%3600)/60)\n",
        "T_s = int(T3%60)\n",
        "print(f'เวลา 19:25:30-03:10:15 มีระยะเวลาห่างกันเท่ากับ {T_h} ชั่วโมง {T_m} นาที {T_s} วินาที')"
      ],
      "metadata": {
        "id": "SfyZIRItZlA4",
        "outputId": "b61e8d0f-9b0d-4c8f-a09c-fbdc73e83178",
        "colab": {
          "base_uri": "https://localhost:8080/"
        }
      },
      "execution_count": null,
      "outputs": [
        {
          "output_type": "stream",
          "name": "stdout",
          "text": [
            "เวลา 19:25:30-03:10:15 มีระยะเวลาห่างกันเท่ากับ 7 ชั่วโมง 44 นาที 45 วินาที\n"
          ]
        }
      ]
    },
    {
      "cell_type": "markdown",
      "source": [
        "## Dictionary"
      ],
      "metadata": {
        "id": "cPJGDfHf0ycC"
      }
    },
    {
      "cell_type": "markdown",
      "source": [
        "- คล้าย list()\n",
        "- index เป็นอะไรก็ได้ ไม่จำเป็นต้องเป็นตัวเลขลำดับ\n",
        "- ลำดับไม่มีความสำคัญ"
      ],
      "metadata": {
        "id": "JHayr4Jg0zuD"
      }
    },
    {
      "cell_type": "markdown",
      "source": [
        "### สร้าง Dictionary"
      ],
      "metadata": {
        "id": "qtpYgcGf0v6G"
      }
    },
    {
      "cell_type": "code",
      "source": [
        "dict_a = {1:'Happy','N':'New','2022':'Year'} # { } เรียกว่า curly brackets"
      ],
      "metadata": {
        "id": "5B7DE4DL02E4"
      },
      "execution_count": 1,
      "outputs": []
    },
    {
      "cell_type": "markdown",
      "source": [
        "### การชี้ สมาชิกใน Dictionary"
      ],
      "metadata": {
        "id": "dQjFdbBF0xaq"
      }
    },
    {
      "cell_type": "code",
      "source": [
        "dict_a[1] # ชี้ตัวที่ 1"
      ],
      "metadata": {
        "id": "U-VilNF606il",
        "outputId": "d7ae9433-6dc1-4907-a1bf-ac54a637332d",
        "colab": {
          "base_uri": "https://localhost:8080/",
          "height": 35
        }
      },
      "execution_count": 2,
      "outputs": [
        {
          "output_type": "execute_result",
          "data": {
            "text/plain": [
              "'Happy'"
            ],
            "application/vnd.google.colaboratory.intrinsic+json": {
              "type": "string"
            }
          },
          "metadata": {},
          "execution_count": 2
        }
      ]
    },
    {
      "cell_type": "code",
      "source": [
        "dict_a['N'] # กำหนดว่าตัว N คือ New"
      ],
      "metadata": {
        "id": "s-XZPqLq06pj",
        "outputId": "9d90c196-1230-4431-9f07-2978d0084e75",
        "colab": {
          "base_uri": "https://localhost:8080/",
          "height": 35
        }
      },
      "execution_count": 3,
      "outputs": [
        {
          "output_type": "execute_result",
          "data": {
            "text/plain": [
              "'New'"
            ],
            "application/vnd.google.colaboratory.intrinsic+json": {
              "type": "string"
            }
          },
          "metadata": {},
          "execution_count": 3
        }
      ]
    },
    {
      "cell_type": "code",
      "source": [
        "dict_a.keys() # เเสดงผลของ keys ขึ้นมา"
      ],
      "metadata": {
        "id": "ycXsOqas062I",
        "outputId": "b15a50ff-c71a-4bc0-cf05-b2a4b8c10d14",
        "colab": {
          "base_uri": "https://localhost:8080/"
        }
      },
      "execution_count": 4,
      "outputs": [
        {
          "output_type": "execute_result",
          "data": {
            "text/plain": [
              "dict_keys([1, 'N', '2022'])"
            ]
          },
          "metadata": {},
          "execution_count": 4
        }
      ]
    },
    {
      "cell_type": "code",
      "source": [
        "dict_a.values() # เเสดงผลของค่าผลลัพธ์"
      ],
      "metadata": {
        "id": "4Zy7ONd90_Z7",
        "outputId": "74cc8889-ff2c-44e3-cc0f-65cba877af2d",
        "colab": {
          "base_uri": "https://localhost:8080/"
        }
      },
      "execution_count": 5,
      "outputs": [
        {
          "output_type": "execute_result",
          "data": {
            "text/plain": [
              "dict_values(['Happy', 'New', 'Year'])"
            ]
          },
          "metadata": {},
          "execution_count": 5
        }
      ]
    },
    {
      "cell_type": "markdown",
      "source": [
        "### การเพิ่มสมาชิกลงไปใน Dictionary"
      ],
      "metadata": {
        "id": "fZbBqF5E1COr"
      }
    },
    {
      "cell_type": "code",
      "source": [
        "dict_a[7] = 3.14 # keys 7 มีค่าเท่ากับ 3.14"
      ],
      "metadata": {
        "id": "i_nG_y9t0_ht"
      },
      "execution_count": 6,
      "outputs": []
    },
    {
      "cell_type": "code",
      "source": [
        "dict_a # เพิ่มสมาชิกขึ้นมา keys 7 มีค่าเท่ากับ 3.14"
      ],
      "metadata": {
        "id": "01DqlF7u0_m0",
        "outputId": "3dc8ce78-cfda-430f-9319-87b91af4ffc2",
        "colab": {
          "base_uri": "https://localhost:8080/"
        }
      },
      "execution_count": 7,
      "outputs": [
        {
          "output_type": "execute_result",
          "data": {
            "text/plain": [
              "{1: 'Happy', 'N': 'New', '2022': 'Year', 7: 3.14}"
            ]
          },
          "metadata": {},
          "execution_count": 7
        }
      ]
    },
    {
      "cell_type": "code",
      "source": [
        "dict_a['N'] = 'NNNNEEEEWWWW' # keys N มีค่าเท่ากับ NNNNEEEEWWWW"
      ],
      "metadata": {
        "id": "sIfUf-pV1GCQ"
      },
      "execution_count": 8,
      "outputs": []
    },
    {
      "cell_type": "code",
      "source": [
        "dict_a # เพิ่มสมาชิกขึ้นมา keys N มีค่าเท่ากับ NNNNEEEEWWWW"
      ],
      "metadata": {
        "id": "g1S0w_T31GHF",
        "outputId": "f41b0e28-e73b-46ac-9ab8-889de1ad0cb1",
        "colab": {
          "base_uri": "https://localhost:8080/"
        }
      },
      "execution_count": 9,
      "outputs": [
        {
          "output_type": "execute_result",
          "data": {
            "text/plain": [
              "{1: 'Happy', 'N': 'NNNNEEEEWWWW', '2022': 'Year', 7: 3.14}"
            ]
          },
          "metadata": {},
          "execution_count": 9
        }
      ]
    },
    {
      "cell_type": "markdown",
      "source": [
        "## Numpy Array"
      ],
      "metadata": {
        "id": "g29oJQoJ1Jwx"
      }
    },
    {
      "cell_type": "markdown",
      "source": [
        "- เก็บได้เเต่ตัวเลข\n",
        "- อ้างอิงโดยใช้ พิกัด (2 มิติ ก็มองเป็น Matrix)"
      ],
      "metadata": {
        "id": "6pptHfsV1LJe"
      }
    },
    {
      "cell_type": "markdown",
      "source": [
        "### 1D array"
      ],
      "metadata": {
        "id": "WjNxoDCU1sFb"
      }
    },
    {
      "cell_type": "code",
      "source": [
        "import numpy # การเรียกใช้งาน package"
      ],
      "metadata": {
        "id": "bEB3MTnG1tu7"
      },
      "execution_count": 10,
      "outputs": []
    },
    {
      "cell_type": "code",
      "source": [
        "list_A = [1,2,3,4,5] # สร้าง list"
      ],
      "metadata": {
        "id": "dBG6tEvM2Yll"
      },
      "execution_count": 11,
      "outputs": []
    },
    {
      "cell_type": "code",
      "source": [
        "arr_a = numpy.array(list_A) # สร้าง list ให้เเปลงเป็น array"
      ],
      "metadata": {
        "id": "U819zu5b2Yra"
      },
      "execution_count": 12,
      "outputs": []
    },
    {
      "cell_type": "code",
      "source": [
        "arr_a # เเสดงผลลัพธ์ของ list arr_a"
      ],
      "metadata": {
        "id": "VnitBQPX2Yw_",
        "outputId": "a83210e6-e6b1-45c9-9cd2-1993ac66ae62",
        "colab": {
          "base_uri": "https://localhost:8080/"
        }
      },
      "execution_count": 13,
      "outputs": [
        {
          "output_type": "execute_result",
          "data": {
            "text/plain": [
              "array([1, 2, 3, 4, 5])"
            ]
          },
          "metadata": {},
          "execution_count": 13
        }
      ]
    },
    {
      "cell_type": "code",
      "source": [
        "arr_a[0] # ชี้สมาชิกตัวที่ 0"
      ],
      "metadata": {
        "id": "XNjoawBj2Y2E",
        "outputId": "94953ca0-78dd-4a4e-e9bc-a974da689557",
        "colab": {
          "base_uri": "https://localhost:8080/"
        }
      },
      "execution_count": 14,
      "outputs": [
        {
          "output_type": "execute_result",
          "data": {
            "text/plain": [
              "1"
            ]
          },
          "metadata": {},
          "execution_count": 14
        }
      ]
    },
    {
      "cell_type": "code",
      "source": [
        "list_A[0] # ชี้สมาชิกตัวที่ 0"
      ],
      "metadata": {
        "id": "tjDp9iO42Y6d",
        "outputId": "80778d14-ba0d-442b-824f-8ee5adf08ae7",
        "colab": {
          "base_uri": "https://localhost:8080/"
        }
      },
      "execution_count": 15,
      "outputs": [
        {
          "output_type": "execute_result",
          "data": {
            "text/plain": [
              "1"
            ]
          },
          "metadata": {},
          "execution_count": 15
        }
      ]
    },
    {
      "cell_type": "code",
      "source": [
        "5 * arr_a # คุณสมบัติของ Matrix (scalar multiplication) คูณกระจายเข้าไปเเต่ละตัวใน Matrix"
      ],
      "metadata": {
        "id": "wfYZgD762eh1",
        "outputId": "19dcb0b8-476b-48e8-c763-ad772967363f",
        "colab": {
          "base_uri": "https://localhost:8080/"
        }
      },
      "execution_count": 16,
      "outputs": [
        {
          "output_type": "execute_result",
          "data": {
            "text/plain": [
              "array([ 5, 10, 15, 20, 25])"
            ]
          },
          "metadata": {},
          "execution_count": 16
        }
      ]
    },
    {
      "cell_type": "code",
      "source": [
        "5 * list_A # duplicate มา 5 รอบ (ตัวซ้ำ)"
      ],
      "metadata": {
        "id": "h_PO2poG2etZ",
        "outputId": "eaebb78c-fc4a-422e-a9c5-7eb9e98220f7",
        "colab": {
          "base_uri": "https://localhost:8080/"
        }
      },
      "execution_count": 17,
      "outputs": [
        {
          "output_type": "execute_result",
          "data": {
            "text/plain": [
              "[1, 2, 3, 4, 5, 1, 2, 3, 4, 5, 1, 2, 3, 4, 5, 1, 2, 3, 4, 5, 1, 2, 3, 4, 5]"
            ]
          },
          "metadata": {},
          "execution_count": 17
        }
      ]
    },
    {
      "cell_type": "code",
      "source": [
        "arr_b = numpy.array([10,20,30,40,50]) # สร้าง list arr_b ให้เเปลงเป็น array"
      ],
      "metadata": {
        "id": "nEkbdIAt2iI5"
      },
      "execution_count": 18,
      "outputs": []
    },
    {
      "cell_type": "code",
      "source": [
        "print(arr_a) # จะเเสดงออกมาเป็นตัวเลขปกติ"
      ],
      "metadata": {
        "id": "d4Ps8tLW2j4_",
        "outputId": "169afbed-3e7c-4630-c3e9-c671afc4fd0f",
        "colab": {
          "base_uri": "https://localhost:8080/"
        }
      },
      "execution_count": 19,
      "outputs": [
        {
          "output_type": "stream",
          "name": "stdout",
          "text": [
            "[1 2 3 4 5]\n"
          ]
        }
      ]
    },
    {
      "cell_type": "code",
      "source": [
        "arr_a + arr_b # ก็จะเอาตำเเหน่งเดียวกันมาบวกกัน"
      ],
      "metadata": {
        "id": "Z32dQf0S2j88",
        "outputId": "401d7ef3-a186-4124-eba9-4308bcb4af5f",
        "colab": {
          "base_uri": "https://localhost:8080/"
        }
      },
      "execution_count": 20,
      "outputs": [
        {
          "output_type": "execute_result",
          "data": {
            "text/plain": [
              "array([11, 22, 33, 44, 55])"
            ]
          },
          "metadata": {},
          "execution_count": 20
        }
      ]
    },
    {
      "cell_type": "code",
      "source": [
        "arr_a.shape # ดู shape ของ matrix"
      ],
      "metadata": {
        "id": "dxRntN-v2oC_"
      },
      "execution_count": null,
      "outputs": []
    },
    {
      "cell_type": "markdown",
      "source": [
        "### 2D array"
      ],
      "metadata": {
        "id": "AzOGoPq53pjp"
      }
    },
    {
      "cell_type": "code",
      "source": [
        "import numpy as np # import เเล้วเปลี่ยนชื่อ จาก numpy เป็น np"
      ],
      "metadata": {
        "id": "MrLXug_13qSc"
      },
      "execution_count": 26,
      "outputs": []
    },
    {
      "cell_type": "code",
      "source": [
        "arr2_z = np.array([[1,2,3],[4,5,6]]) # สร้าง list ซ้อน list"
      ],
      "metadata": {
        "id": "E-NI9Ld83qau"
      },
      "execution_count": 27,
      "outputs": []
    },
    {
      "cell_type": "code",
      "source": [
        "arr2_z # ได้ list ที่มี สองเเถว สามหลัก"
      ],
      "metadata": {
        "id": "kXbL2mnb3qdY",
        "outputId": "c82a31bf-eb20-45c3-a588-64bd6e5e5f13",
        "colab": {
          "base_uri": "https://localhost:8080/"
        }
      },
      "execution_count": 28,
      "outputs": [
        {
          "output_type": "execute_result",
          "data": {
            "text/plain": [
              "array([[1, 2, 3],\n",
              "       [4, 5, 6]])"
            ]
          },
          "metadata": {},
          "execution_count": 28
        }
      ]
    },
    {
      "cell_type": "code",
      "source": [
        "arr2_z.shape # ดู shape ของ matrix"
      ],
      "metadata": {
        "id": "F2lNdOSs3qgR",
        "outputId": "a802a0f7-2285-46a2-8f28-47e8db3442fb",
        "colab": {
          "base_uri": "https://localhost:8080/"
        }
      },
      "execution_count": 29,
      "outputs": [
        {
          "output_type": "execute_result",
          "data": {
            "text/plain": [
              "(2, 3)"
            ]
          },
          "metadata": {},
          "execution_count": 29
        }
      ]
    },
    {
      "cell_type": "code",
      "source": [
        "arr2_z[1,1]"
      ],
      "metadata": {
        "id": "a0hepl6L4wQ6",
        "outputId": "cc830028-6cf5-4a96-c306-918c2b50aefc",
        "colab": {
          "base_uri": "https://localhost:8080/"
        }
      },
      "execution_count": 33,
      "outputs": [
        {
          "output_type": "execute_result",
          "data": {
            "text/plain": [
              "5"
            ]
          },
          "metadata": {},
          "execution_count": 33
        }
      ]
    },
    {
      "cell_type": "markdown",
      "source": [
        "`np.zeros()"
      ],
      "metadata": {
        "id": "s8HfkCB74CFO"
      }
    },
    {
      "cell_type": "code",
      "source": [
        "arr2_3_5_0 = np.zeros((3,5)) # สร้าง array 0 ที่มี 3 เเถว 5 หลัก"
      ],
      "metadata": {
        "id": "iml8BtdD3qip"
      },
      "execution_count": 25,
      "outputs": []
    },
    {
      "cell_type": "code",
      "source": [
        "arr2_3_5_0 # array ตั้งต้น"
      ],
      "metadata": {
        "id": "EWxXOhZK4EIs",
        "outputId": "b70de6d5-a36b-4245-f132-e4b8b16a8f26",
        "colab": {
          "base_uri": "https://localhost:8080/"
        }
      },
      "execution_count": 30,
      "outputs": [
        {
          "output_type": "execute_result",
          "data": {
            "text/plain": [
              "array([[0., 0., 0., 0., 0.],\n",
              "       [0., 0., 0., 0., 0.],\n",
              "       [0., 0., 0., 0., 0.]])"
            ]
          },
          "metadata": {},
          "execution_count": 30
        }
      ]
    },
    {
      "cell_type": "code",
      "source": [
        "arr2_3_5_0[1,2] = 9 # arr[เเถว,หลัก] มีค่าเท่ากับ 9"
      ],
      "metadata": {
        "id": "KfrAmpwS4EQm"
      },
      "execution_count": 31,
      "outputs": []
    },
    {
      "cell_type": "code",
      "source": [
        "arr2_3_5_0 # เมื่อเติมเลข 9 เเล้ว"
      ],
      "metadata": {
        "id": "0nnkGEuj4HSP",
        "outputId": "4316a8fe-2515-49ad-da2e-fda3126338e2",
        "colab": {
          "base_uri": "https://localhost:8080/"
        }
      },
      "execution_count": 32,
      "outputs": [
        {
          "output_type": "execute_result",
          "data": {
            "text/plain": [
              "array([[0., 0., 0., 0., 0.],\n",
              "       [0., 0., 9., 0., 0.],\n",
              "       [0., 0., 0., 0., 0.]])"
            ]
          },
          "metadata": {},
          "execution_count": 32
        }
      ]
    },
    {
      "cell_type": "code",
      "source": [
        "arr2_3_5_0[1,2] = 9 # arr[เเถว,หลัก] มีค่าเท่ากับ 9"
      ],
      "metadata": {
        "id": "_I0FExjU4Isv"
      },
      "execution_count": 34,
      "outputs": []
    },
    {
      "cell_type": "code",
      "source": [
        "arr2_3_5_0 # เมื่อเติมเลข 9 เเล้ว"
      ],
      "metadata": {
        "id": "Czwn1sqi5lZa",
        "outputId": "7717a156-963f-4f0a-e957-816d65da6849",
        "colab": {
          "base_uri": "https://localhost:8080/"
        }
      },
      "execution_count": 35,
      "outputs": [
        {
          "output_type": "execute_result",
          "data": {
            "text/plain": [
              "array([[0., 0., 0., 0., 0.],\n",
              "       [0., 0., 9., 0., 0.],\n",
              "       [0., 0., 0., 0., 0.]])"
            ]
          },
          "metadata": {},
          "execution_count": 35
        }
      ]
    },
    {
      "cell_type": "code",
      "source": [
        "arr2_3_5_0[1,2] # บอกค่าของ ตำเเหน่ง เเถว 1 หลัก 2 มีค่าเท่ากับ 9.0"
      ],
      "metadata": {
        "id": "1T5aOTQg5lcG",
        "outputId": "a6337469-7e12-4a2a-a991-1c8ce4117cf9",
        "colab": {
          "base_uri": "https://localhost:8080/"
        }
      },
      "execution_count": 36,
      "outputs": [
        {
          "output_type": "execute_result",
          "data": {
            "text/plain": [
              "9.0"
            ]
          },
          "metadata": {},
          "execution_count": 36
        }
      ]
    },
    {
      "cell_type": "markdown",
      "source": [
        "`np.ones()`"
      ],
      "metadata": {
        "id": "gn2oC_TC5p-M"
      }
    },
    {
      "cell_type": "code",
      "source": [
        "arr2_4_5_1 = np.ones((4,5)) # มี 4 เเถว 5 หลัก"
      ],
      "metadata": {
        "id": "1y4bM-DJ5oJh"
      },
      "execution_count": 37,
      "outputs": []
    },
    {
      "cell_type": "code",
      "source": [
        "arr2_4_5_1 # ค่าเป็น 1 หมด"
      ],
      "metadata": {
        "id": "CcqGyRb15xML",
        "outputId": "eb9654ca-f031-40da-81c2-0da1b8ec8820",
        "colab": {
          "base_uri": "https://localhost:8080/"
        }
      },
      "execution_count": 38,
      "outputs": [
        {
          "output_type": "execute_result",
          "data": {
            "text/plain": [
              "array([[1., 1., 1., 1., 1.],\n",
              "       [1., 1., 1., 1., 1.],\n",
              "       [1., 1., 1., 1., 1.],\n",
              "       [1., 1., 1., 1., 1.]])"
            ]
          },
          "metadata": {},
          "execution_count": 38
        }
      ]
    },
    {
      "cell_type": "code",
      "source": [
        "arr2_4_5_200 = 200 * np.ones((4,5)) # การคูณ 200 กับ matrix ones"
      ],
      "metadata": {
        "id": "hVhXCihh5zBn"
      },
      "execution_count": 40,
      "outputs": []
    },
    {
      "cell_type": "code",
      "source": [
        "arr2_4_5_200 # ก็จะออกมาเป็น 200 ทั้งหมด"
      ],
      "metadata": {
        "id": "zjmc2nS751S2",
        "outputId": "67f418f1-1840-490b-ec1c-dcc12744e226",
        "colab": {
          "base_uri": "https://localhost:8080/"
        }
      },
      "execution_count": 41,
      "outputs": [
        {
          "output_type": "execute_result",
          "data": {
            "text/plain": [
              "array([[200., 200., 200., 200., 200.],\n",
              "       [200., 200., 200., 200., 200.],\n",
              "       [200., 200., 200., 200., 200.],\n",
              "       [200., 200., 200., 200., 200.]])"
            ]
          },
          "metadata": {},
          "execution_count": 41
        }
      ]
    },
    {
      "cell_type": "markdown",
      "source": [
        "### Matrix operations"
      ],
      "metadata": {
        "id": "89guz3is5_N6"
      }
    },
    {
      "cell_type": "markdown",
      "source": [
        "#### การบวก ลบ matrix $M \\pm N$ บวกลบตัวที่อยู่ตำเเหน่งเดียวกัน"
      ],
      "metadata": {
        "id": "sHW9bcOR6A5s"
      }
    },
    {
      "cell_type": "code",
      "source": [
        "arr2_4_5_200 + arr2_3_5_0 # shape ไม่เท่ากัน # การบวก ลบ  matrix shape ต้องมีขนาดเท่ากัน"
      ],
      "metadata": {
        "id": "6zSwlBaM6Ccz",
        "outputId": "ff2dba32-f5cd-45d3-d01e-2bbb0b8fac89",
        "colab": {
          "base_uri": "https://localhost:8080/",
          "height": 183
        }
      },
      "execution_count": 42,
      "outputs": [
        {
          "output_type": "error",
          "ename": "ValueError",
          "evalue": "ignored",
          "traceback": [
            "\u001b[0;31m---------------------------------------------------------------------------\u001b[0m",
            "\u001b[0;31mValueError\u001b[0m                                Traceback (most recent call last)",
            "\u001b[0;32m<ipython-input-42-a785c2be5c10>\u001b[0m in \u001b[0;36m<cell line: 1>\u001b[0;34m()\u001b[0m\n\u001b[0;32m----> 1\u001b[0;31m \u001b[0marr2_4_5_200\u001b[0m \u001b[0;34m+\u001b[0m \u001b[0marr2_3_5_0\u001b[0m \u001b[0;31m# shape ไม่เท่ากัน # การบวก ลบ  matrix shape ต้องมีขนาดเท่ากัน\u001b[0m\u001b[0;34m\u001b[0m\u001b[0;34m\u001b[0m\u001b[0m\n\u001b[0m",
            "\u001b[0;31mValueError\u001b[0m: operands could not be broadcast together with shapes (4,5) (3,5) "
          ]
        }
      ]
    },
    {
      "cell_type": "code",
      "source": [
        "arr2_4_5_200 + arr2_4_5_1 # shape เท่ากันจึงสามารถบวกกันได้"
      ],
      "metadata": {
        "id": "En3kF6g06HcZ",
        "outputId": "171059e2-3129-4860-f86d-c39a66d5be24",
        "colab": {
          "base_uri": "https://localhost:8080/"
        }
      },
      "execution_count": 43,
      "outputs": [
        {
          "output_type": "execute_result",
          "data": {
            "text/plain": [
              "array([[201., 201., 201., 201., 201.],\n",
              "       [201., 201., 201., 201., 201.],\n",
              "       [201., 201., 201., 201., 201.],\n",
              "       [201., 201., 201., 201., 201.]])"
            ]
          },
          "metadata": {},
          "execution_count": 43
        }
      ]
    },
    {
      "cell_type": "markdown",
      "source": [
        "#### การคูณ matrix\n",
        "\n",
        "\n",
        "- $aM$ Scalar คูณ Matrix (Scalar คูณกระจายเข้าไปทุกตัวของ Matrix)\n",
        "- $M\\times N$ Matrix คูณ Matrix (แถวคูณหลัก)"
      ],
      "metadata": {
        "id": "mDcyLeAI6lja"
      }
    },
    {
      "cell_type": "markdown",
      "source": [
        "$aM$"
      ],
      "metadata": {
        "id": "uExnFmSn6n-z"
      }
    },
    {
      "cell_type": "code",
      "source": [
        "5 * arr_a # คุณสมบัติของ Matrix (scalar multiplication)"
      ],
      "metadata": {
        "id": "xivb5POT6qF8",
        "outputId": "3ac6e760-e9b7-430c-b697-722e50837dd7",
        "colab": {
          "base_uri": "https://localhost:8080/"
        }
      },
      "execution_count": 44,
      "outputs": [
        {
          "output_type": "execute_result",
          "data": {
            "text/plain": [
              "array([ 5, 10, 15, 20, 25])"
            ]
          },
          "metadata": {},
          "execution_count": 44
        }
      ]
    },
    {
      "cell_type": "markdown",
      "source": [
        "$M\\times N$ (dot product)\n",
        "\n",
        "- (m,n) $\\times$ (n,o) = (m,o) (Shape)$"
      ],
      "metadata": {
        "id": "JJ6K2rPS6pnI"
      }
    },
    {
      "cell_type": "markdown",
      "source": [
        "![image.png](data:image/png;base64,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)"
      ],
      "metadata": {
        "id": "0oAO6q6m6pqj"
      }
    },
    {
      "cell_type": "code",
      "source": [
        "mat_a = np.array([[2,3,5],[4,6,7]]) # สร้าง Matrix 3 ตัว\n",
        "mat_b = np.array([[1,2,5],[2,4,-7]])\n",
        "mat_c = np.array([[2,3],[4,6],[7,9]])"
      ],
      "metadata": {
        "id": "YTabyWvy61Ov"
      },
      "execution_count": 45,
      "outputs": []
    },
    {
      "cell_type": "code",
      "source": [
        "mat_a # แสดงผลลัพธ์"
      ],
      "metadata": {
        "id": "f7VpC6Q6643H",
        "outputId": "65580f84-a15f-465e-88f1-2e5a633471e2",
        "colab": {
          "base_uri": "https://localhost:8080/"
        }
      },
      "execution_count": 46,
      "outputs": [
        {
          "output_type": "execute_result",
          "data": {
            "text/plain": [
              "array([[2, 3, 5],\n",
              "       [4, 6, 7]])"
            ]
          },
          "metadata": {},
          "execution_count": 46
        }
      ]
    },
    {
      "cell_type": "code",
      "source": [
        "mat_b # แสดงผลลัพธ์"
      ],
      "metadata": {
        "id": "5Mk51s2s66Ol",
        "outputId": "0f893cdb-489e-4261-9376-a18097dfb876",
        "colab": {
          "base_uri": "https://localhost:8080/"
        }
      },
      "execution_count": 47,
      "outputs": [
        {
          "output_type": "execute_result",
          "data": {
            "text/plain": [
              "array([[ 1,  2,  5],\n",
              "       [ 2,  4, -7]])"
            ]
          },
          "metadata": {},
          "execution_count": 47
        }
      ]
    },
    {
      "cell_type": "code",
      "source": [
        "mat_c # แสดงผลลัพธ์"
      ],
      "metadata": {
        "id": "7GbOt0tp66hv",
        "outputId": "8dd3d816-3d49-4797-e53e-4706606a112f",
        "colab": {
          "base_uri": "https://localhost:8080/"
        }
      },
      "execution_count": 48,
      "outputs": [
        {
          "output_type": "execute_result",
          "data": {
            "text/plain": [
              "array([[2, 3],\n",
              "       [4, 6],\n",
              "       [7, 9]])"
            ]
          },
          "metadata": {},
          "execution_count": 48
        }
      ]
    },
    {
      "cell_type": "markdown",
      "source": [
        "axc,bxc,cxa,cxb"
      ],
      "metadata": {
        "id": "DZ4h5gnu696m"
      }
    },
    {
      "cell_type": "code",
      "source": [
        "np.dot(mat_a,mat_c) # a x c"
      ],
      "metadata": {
        "id": "o1IVMPbo7AXS",
        "outputId": "c56d9179-be3d-425f-e449-d86ff3c36099",
        "colab": {
          "base_uri": "https://localhost:8080/"
        }
      },
      "execution_count": 49,
      "outputs": [
        {
          "output_type": "execute_result",
          "data": {
            "text/plain": [
              "array([[ 51,  69],\n",
              "       [ 81, 111]])"
            ]
          },
          "metadata": {},
          "execution_count": 49
        }
      ]
    },
    {
      "cell_type": "code",
      "source": [
        "np.dot(mat_b,mat_c)  # b x c"
      ],
      "metadata": {
        "id": "RqQkr__V7DLi",
        "outputId": "c15c6235-7632-4abc-e8ff-a736f4820014",
        "colab": {
          "base_uri": "https://localhost:8080/"
        }
      },
      "execution_count": 50,
      "outputs": [
        {
          "output_type": "execute_result",
          "data": {
            "text/plain": [
              "array([[ 45,  60],\n",
              "       [-29, -33]])"
            ]
          },
          "metadata": {},
          "execution_count": 50
        }
      ]
    },
    {
      "cell_type": "code",
      "source": [
        "np.dot(mat_c,mat_a)  # c x a"
      ],
      "metadata": {
        "id": "RzSfb4ed7DPO",
        "outputId": "c61a7afc-5334-49ab-f03f-a560bb391a48",
        "colab": {
          "base_uri": "https://localhost:8080/"
        }
      },
      "execution_count": 53,
      "outputs": [
        {
          "output_type": "execute_result",
          "data": {
            "text/plain": [
              "array([[16, 24, 31],\n",
              "       [32, 48, 62],\n",
              "       [50, 75, 98]])"
            ]
          },
          "metadata": {},
          "execution_count": 53
        }
      ]
    },
    {
      "cell_type": "code",
      "source": [
        "mat_X = np.dot(mat_c,mat_b)  # c x b\n",
        "print(mat_X)"
      ],
      "metadata": {
        "id": "JtKg9WJp7DXB",
        "outputId": "54f90745-4303-4be7-854f-36c81ef36587",
        "colab": {
          "base_uri": "https://localhost:8080/"
        }
      },
      "execution_count": 52,
      "outputs": [
        {
          "output_type": "stream",
          "name": "stdout",
          "text": [
            "[[  8  16 -11]\n",
            " [ 16  32 -22]\n",
            " [ 25  50 -28]]\n"
          ]
        }
      ]
    },
    {
      "cell_type": "code",
      "source": [
        "mat_a * mat_b # คูณตัวตำเเหน่งเดียวกัน"
      ],
      "metadata": {
        "id": "jx26WE9t7G8r",
        "outputId": "9a295cd0-23df-4692-9e72-dbf615ddb87a",
        "colab": {
          "base_uri": "https://localhost:8080/"
        }
      },
      "execution_count": 54,
      "outputs": [
        {
          "output_type": "execute_result",
          "data": {
            "text/plain": [
              "array([[  2,   6,  25],\n",
              "       [  8,  24, -49]])"
            ]
          },
          "metadata": {},
          "execution_count": 54
        }
      ]
    },
    {
      "cell_type": "markdown",
      "source": [
        "### Matrix Slicing"
      ],
      "metadata": {
        "id": "gkeCt-T07NSO"
      }
    },
    {
      "cell_type": "code",
      "source": [
        "mat_X[:2,:2] #ตัดแถว:หลัก"
      ],
      "metadata": {
        "id": "_YGpf5OE7PVp",
        "outputId": "dc23796a-f2e2-49b9-c273-1e130114e5a3",
        "colab": {
          "base_uri": "https://localhost:8080/"
        }
      },
      "execution_count": 55,
      "outputs": [
        {
          "output_type": "execute_result",
          "data": {
            "text/plain": [
              "array([[ 8, 16],\n",
              "       [16, 32]])"
            ]
          },
          "metadata": {},
          "execution_count": 55
        }
      ]
    },
    {
      "cell_type": "markdown",
      "source": [
        "## HW 3\n",
        "\n",
        "\n",
        "1. สร้าง array ที่เป็นรูป ต้น Christmas\n",
        "2. slice เลข 1 ออกมาจาก array HW3 ด้วยการ slice เเค่ครั้งเดียว"
      ],
      "metadata": {
        "id": "J0RxkfrT8dEG"
      }
    },
    {
      "cell_type": "markdown",
      "source": [
        "ข้อที่ 1"
      ],
      "metadata": {
        "id": "Ii8ZMkc48fPL"
      }
    },
    {
      "cell_type": "code",
      "source": [
        "Tree = np.ones((15,9))\n",
        "Tree[1::,4] = 66\n",
        "Tree[3:6,3:6] = 66\n",
        "Tree[5:7,5:7] = 66\n",
        "Tree[5:7,2:7] = 66\n",
        "Tree[7:9,1:8] = 66\n",
        "Tree[9:12,0:9] = 66\n",
        "Tree[4:5,4:6:2] = 0\n",
        "Tree[6:7,3:7:2] = 0\n",
        "Tree[8:9,2:8:2] = 0\n",
        "Tree[10:11,1:9:2] = 0\n",
        "Tree[12:15,4] = 55\n",
        "print(Tree)"
      ],
      "metadata": {
        "id": "KCDRiqAU8hUC",
        "outputId": "a8807f6c-499e-4e78-a320-14fdaefb6773",
        "colab": {
          "base_uri": "https://localhost:8080/"
        }
      },
      "execution_count": 56,
      "outputs": [
        {
          "output_type": "stream",
          "name": "stdout",
          "text": [
            "[[ 1.  1.  1.  1.  1.  1.  1.  1.  1.]\n",
            " [ 1.  1.  1.  1. 66.  1.  1.  1.  1.]\n",
            " [ 1.  1.  1.  1. 66.  1.  1.  1.  1.]\n",
            " [ 1.  1.  1. 66. 66. 66.  1.  1.  1.]\n",
            " [ 1.  1.  1. 66.  0. 66.  1.  1.  1.]\n",
            " [ 1.  1. 66. 66. 66. 66. 66.  1.  1.]\n",
            " [ 1.  1. 66.  0. 66.  0. 66.  1.  1.]\n",
            " [ 1. 66. 66. 66. 66. 66. 66. 66.  1.]\n",
            " [ 1. 66.  0. 66.  0. 66.  0. 66.  1.]\n",
            " [66. 66. 66. 66. 66. 66. 66. 66. 66.]\n",
            " [66.  0. 66.  0. 66.  0. 66.  0. 66.]\n",
            " [66. 66. 66. 66. 66. 66. 66. 66. 66.]\n",
            " [ 1.  1.  1.  1. 55.  1.  1.  1.  1.]\n",
            " [ 1.  1.  1.  1. 55.  1.  1.  1.  1.]\n",
            " [ 1.  1.  1.  1. 55.  1.  1.  1.  1.]]\n"
          ]
        }
      ]
    },
    {
      "cell_type": "markdown",
      "source": [
        "ข้อที่ 2"
      ],
      "metadata": {
        "id": "nUfTKsJw8l8b"
      }
    },
    {
      "cell_type": "code",
      "source": [
        "HW3 = np.zeros((10,10))\n",
        "HW3"
      ],
      "metadata": {
        "id": "oEjO1vEu8nx8",
        "outputId": "e52d9148-bc02-473b-8150-4ab6b6f249ba",
        "colab": {
          "base_uri": "https://localhost:8080/"
        }
      },
      "execution_count": 57,
      "outputs": [
        {
          "output_type": "execute_result",
          "data": {
            "text/plain": [
              "array([[0., 0., 0., 0., 0., 0., 0., 0., 0., 0.],\n",
              "       [0., 0., 0., 0., 0., 0., 0., 0., 0., 0.],\n",
              "       [0., 0., 0., 0., 0., 0., 0., 0., 0., 0.],\n",
              "       [0., 0., 0., 0., 0., 0., 0., 0., 0., 0.],\n",
              "       [0., 0., 0., 0., 0., 0., 0., 0., 0., 0.],\n",
              "       [0., 0., 0., 0., 0., 0., 0., 0., 0., 0.],\n",
              "       [0., 0., 0., 0., 0., 0., 0., 0., 0., 0.],\n",
              "       [0., 0., 0., 0., 0., 0., 0., 0., 0., 0.],\n",
              "       [0., 0., 0., 0., 0., 0., 0., 0., 0., 0.],\n",
              "       [0., 0., 0., 0., 0., 0., 0., 0., 0., 0.]])"
            ]
          },
          "metadata": {},
          "execution_count": 57
        }
      ]
    },
    {
      "cell_type": "code",
      "source": [
        "HW3[::4,2] = 1\n",
        "HW3[::4,4] = 1\n",
        "HW3[::4,6] = 1\n",
        "HW3[::4,8] = 1\n",
        "HW3"
      ],
      "metadata": {
        "id": "x9cIC9mW7fZV",
        "outputId": "7588e7fb-556c-488f-89bd-9cf8811598d5",
        "colab": {
          "base_uri": "https://localhost:8080/"
        }
      },
      "execution_count": 58,
      "outputs": [
        {
          "output_type": "execute_result",
          "data": {
            "text/plain": [
              "array([[0., 0., 1., 0., 1., 0., 1., 0., 1., 0.],\n",
              "       [0., 0., 0., 0., 0., 0., 0., 0., 0., 0.],\n",
              "       [0., 0., 0., 0., 0., 0., 0., 0., 0., 0.],\n",
              "       [0., 0., 0., 0., 0., 0., 0., 0., 0., 0.],\n",
              "       [0., 0., 1., 0., 1., 0., 1., 0., 1., 0.],\n",
              "       [0., 0., 0., 0., 0., 0., 0., 0., 0., 0.],\n",
              "       [0., 0., 0., 0., 0., 0., 0., 0., 0., 0.],\n",
              "       [0., 0., 0., 0., 0., 0., 0., 0., 0., 0.],\n",
              "       [0., 0., 1., 0., 1., 0., 1., 0., 1., 0.],\n",
              "       [0., 0., 0., 0., 0., 0., 0., 0., 0., 0.]])"
            ]
          },
          "metadata": {},
          "execution_count": 58
        }
      ]
    },
    {
      "cell_type": "code",
      "source": [
        "HW3[::4,2::2]"
      ],
      "metadata": {
        "id": "tpWzBr4s8rOM",
        "outputId": "3b7e63a2-4997-4ec8-9047-4afc9d108fef",
        "colab": {
          "base_uri": "https://localhost:8080/"
        }
      },
      "execution_count": 59,
      "outputs": [
        {
          "output_type": "execute_result",
          "data": {
            "text/plain": [
              "array([[1., 1., 1., 1.],\n",
              "       [1., 1., 1., 1.],\n",
              "       [1., 1., 1., 1.]])"
            ]
          },
          "metadata": {},
          "execution_count": 59
        }
      ]
    },
    {
      "cell_type": "markdown",
      "source": [
        "## สร้าง identity matrix ได้ด้วย np.eye(ขนาด)"
      ],
      "metadata": {
        "id": "soVZWynk9nDD"
      }
    },
    {
      "cell_type": "code",
      "source": [
        "mat_X = np.array([[2,3,4],[4,6,1],[7,9,-2]])"
      ],
      "metadata": {
        "id": "0POTbk4S9xHZ"
      },
      "execution_count": 61,
      "outputs": []
    },
    {
      "cell_type": "code",
      "source": [
        "mat_X"
      ],
      "metadata": {
        "id": "a74Q5GN19-hC",
        "outputId": "c694e9e3-efb0-434c-a880-e20515c3c501",
        "colab": {
          "base_uri": "https://localhost:8080/"
        }
      },
      "execution_count": 62,
      "outputs": [
        {
          "output_type": "execute_result",
          "data": {
            "text/plain": [
              "array([[ 2,  3,  4],\n",
              "       [ 4,  6,  1],\n",
              "       [ 7,  9, -2]])"
            ]
          },
          "metadata": {},
          "execution_count": 62
        }
      ]
    },
    {
      "cell_type": "code",
      "source": [
        "np.dot(mat_X,np.eye(3))"
      ],
      "metadata": {
        "id": "Rm8HqqjR-Aov",
        "outputId": "f97a7c7e-43f6-499a-897b-5f6e671d50e9",
        "colab": {
          "base_uri": "https://localhost:8080/"
        }
      },
      "execution_count": 63,
      "outputs": [
        {
          "output_type": "execute_result",
          "data": {
            "text/plain": [
              "array([[ 2.,  3.,  4.],\n",
              "       [ 4.,  6.,  1.],\n",
              "       [ 7.,  9., -2.]])"
            ]
          },
          "metadata": {},
          "execution_count": 63
        }
      ]
    },
    {
      "cell_type": "code",
      "source": [
        "np.dot(np.eye(3),mat_X)"
      ],
      "metadata": {
        "id": "nX42wgOc-KEG",
        "outputId": "f27ad068-c381-4365-9ab5-b4778babcab7",
        "colab": {
          "base_uri": "https://localhost:8080/"
        }
      },
      "execution_count": 64,
      "outputs": [
        {
          "output_type": "execute_result",
          "data": {
            "text/plain": [
              "array([[ 2.,  3.,  4.],\n",
              "       [ 4.,  6.,  1.],\n",
              "       [ 7.,  9., -2.]])"
            ]
          },
          "metadata": {},
          "execution_count": 64
        }
      ]
    },
    {
      "cell_type": "markdown",
      "source": [
        "### HW2"
      ],
      "metadata": {
        "id": "To8xgO3F8zOg"
      }
    },
    {
      "cell_type": "code",
      "source": [],
      "metadata": {
        "id": "4GmOz0up8rS_"
      },
      "execution_count": null,
      "outputs": []
    }
  ]
}