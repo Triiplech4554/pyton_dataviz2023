{
  "nbformat": 4,
  "nbformat_minor": 0,
  "metadata": {
    "colab": {
      "provenance": [],
      "authorship_tag": "ABX9TyNGC2eILFiF14h5lWFTplTD",
      "include_colab_link": true
    },
    "kernelspec": {
      "name": "python3",
      "display_name": "Python 3"
    },
    "language_info": {
      "name": "python"
    }
  },
  "cells": [
    {
      "cell_type": "markdown",
      "metadata": {
        "id": "view-in-github",
        "colab_type": "text"
      },
      "source": [
        "<a href=\"https://colab.research.google.com/github/Triiplech4554/pyton_dataviz2023/blob/main/HW_2_2_5.ipynb\" target=\"_parent\"><img src=\"https://colab.research.google.com/assets/colab-badge.svg\" alt=\"Open In Colab\"/></a>"
      ]
    },
    {
      "cell_type": "markdown",
      "source": [
        "### HW2 สร้าง logo พรรคก้าวไกล"
      ],
      "metadata": {
        "id": "Id0OAUTDIV07"
      }
    },
    {
      "cell_type": "code",
      "source": [
        "import numpy as np\n",
        "Mfp = np.ones((14,12))\n",
        "Mfp[0:2,0:12] = 99\n",
        "Mfp[2,10:12] =99\n",
        "Mfp[3:5,9:10] =99\n",
        "Mfp[3:5,10:11] =99\n",
        "Mfp[5:7,8:10] =99\n",
        "Mfp[7:9,7:9] =99\n",
        "Mfp[9:11,6:8] =99\n",
        "Mfp[11:13,5:7] =99\n",
        "Mfp[3:5,4:6] =99\n",
        "#########################\n",
        "Mfp[3:5,1:8] = 99\n",
        "Mfp[5:7,5:7] = 99\n",
        "Mfp[7:9,4:6] = 99\n",
        "Mfp[9:11,3:5] = 99\n",
        "print(Mfp)\n"
      ],
      "metadata": {
        "colab": {
          "base_uri": "https://localhost:8080/"
        },
        "id": "NbLVS57wIZ6d",
        "outputId": "3e1ec4b6-d5ac-4a9f-c602-13beb7398048"
      },
      "execution_count": 70,
      "outputs": [
        {
          "output_type": "stream",
          "name": "stdout",
          "text": [
            "[[99. 99. 99. 99. 99. 99. 99. 99. 99. 99. 99. 99.]\n",
            " [99. 99. 99. 99. 99. 99. 99. 99. 99. 99. 99. 99.]\n",
            " [ 1.  1.  1.  1.  1.  1.  1.  1.  1.  1. 99. 99.]\n",
            " [ 1. 99. 99. 99. 99. 99. 99. 99.  1. 99. 99.  1.]\n",
            " [ 1. 99. 99. 99. 99. 99. 99. 99.  1. 99. 99.  1.]\n",
            " [ 1.  1.  1.  1.  1. 99. 99.  1. 99. 99.  1.  1.]\n",
            " [ 1.  1.  1.  1.  1. 99. 99.  1. 99. 99.  1.  1.]\n",
            " [ 1.  1.  1.  1. 99. 99.  1. 99. 99.  1.  1.  1.]\n",
            " [ 1.  1.  1.  1. 99. 99.  1. 99. 99.  1.  1.  1.]\n",
            " [ 1.  1.  1. 99. 99.  1. 99. 99.  1.  1.  1.  1.]\n",
            " [ 1.  1.  1. 99. 99.  1. 99. 99.  1.  1.  1.  1.]\n",
            " [ 1.  1.  1.  1.  1. 99. 99.  1.  1.  1.  1.  1.]\n",
            " [ 1.  1.  1.  1.  1. 99. 99.  1.  1.  1.  1.  1.]\n",
            " [ 1.  1.  1.  1.  1.  1.  1.  1.  1.  1.  1.  1.]]\n"
          ]
        }
      ]
    },
    {
      "cell_type": "markdown",
      "source": [
        "### HW2.5 เราสร้าง function print logo พรรคก้าวไกลโดย input พื้นหลังได้"
      ],
      "metadata": {
        "id": "a34m--dWyREU"
      }
    },
    {
      "cell_type": "code",
      "source": [
        "def print_Mfp(Mfp,background,ph):\n",
        "    for Array in Mfp:\n",
        "        for num in Array:\n",
        "            if num == 1:\n",
        "                print(background, end='   ')\n",
        "            else:\n",
        "                print(ph, end=' ')\n",
        "        print()\n",
        "background = '*'\n",
        "ph = 'Mfp' #รูป\n",
        "\n",
        "print_Mfp(Mfp,background,ph )"
      ],
      "metadata": {
        "colab": {
          "base_uri": "https://localhost:8080/"
        },
        "id": "Heju8iyEySdp",
        "outputId": "2fdd934a-dc03-411e-88fb-7ff1f2095154"
      },
      "execution_count": 78,
      "outputs": [
        {
          "output_type": "stream",
          "name": "stdout",
          "text": [
            "Mfp Mfp Mfp Mfp Mfp Mfp Mfp Mfp Mfp Mfp Mfp Mfp \n",
            "Mfp Mfp Mfp Mfp Mfp Mfp Mfp Mfp Mfp Mfp Mfp Mfp \n",
            "*   *   *   *   *   *   *   *   *   *   Mfp Mfp \n",
            "*   Mfp Mfp Mfp Mfp Mfp Mfp Mfp *   Mfp Mfp *   \n",
            "*   Mfp Mfp Mfp Mfp Mfp Mfp Mfp *   Mfp Mfp *   \n",
            "*   *   *   *   *   Mfp Mfp *   Mfp Mfp *   *   \n",
            "*   *   *   *   *   Mfp Mfp *   Mfp Mfp *   *   \n",
            "*   *   *   *   Mfp Mfp *   Mfp Mfp *   *   *   \n",
            "*   *   *   *   Mfp Mfp *   Mfp Mfp *   *   *   \n",
            "*   *   *   Mfp Mfp *   Mfp Mfp *   *   *   *   \n",
            "*   *   *   Mfp Mfp *   Mfp Mfp *   *   *   *   \n",
            "*   *   *   *   *   Mfp Mfp *   *   *   *   *   \n",
            "*   *   *   *   *   Mfp Mfp *   *   *   *   *   \n",
            "*   *   *   *   *   *   *   *   *   *   *   *   \n"
          ]
        }
      ]
    }
  ]
}